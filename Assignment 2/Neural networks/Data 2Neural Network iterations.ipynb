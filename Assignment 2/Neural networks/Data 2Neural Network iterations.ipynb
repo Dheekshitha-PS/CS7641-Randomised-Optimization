{
 "cells": [
  {
   "cell_type": "code",
   "execution_count": 1,
   "metadata": {
    "scrolled": true
   },
   "outputs": [],
   "source": [
    "import pandas as pd\n",
    "import numpy as np"
   ]
  },
  {
   "cell_type": "code",
   "execution_count": 2,
   "metadata": {
    "scrolled": true
   },
   "outputs": [],
   "source": [
    "data = pd.read_csv('BankChurners.csv')"
   ]
  },
  {
   "cell_type": "code",
   "execution_count": 3,
   "metadata": {
    "scrolled": true
   },
   "outputs": [],
   "source": [
    "import numpy as np # linear algebra\n",
    "import pandas as pd # data processing, CSV file I/O (e.g. pd.read_csv)\n",
    "import matplotlib.pyplot as plt\n",
    "import seaborn as sns\n",
    "%matplotlib inline\n"
   ]
  },
  {
   "cell_type": "code",
   "execution_count": 4,
   "metadata": {},
   "outputs": [],
   "source": [
    "from sklearn.tree import DecisionTreeClassifier\n",
    "from sklearn.metrics import roc_curve, auc"
   ]
  },
  {
   "cell_type": "code",
   "execution_count": 5,
   "metadata": {},
   "outputs": [],
   "source": [
    "from sklearn.model_selection import KFold, cross_val_score\n",
    "from sklearn.preprocessing import StandardScaler, OneHotEncoder, LabelEncoder"
   ]
  },
  {
   "cell_type": "code",
   "execution_count": 6,
   "metadata": {},
   "outputs": [],
   "source": [
    "# # print)str\n",
    "# scaled_x_train=pd.read_csv(\"scaled_x_train_smote2.csv\")\n",
    "# scaled_x_test=pd.read_csv(\"scaled_x_test_smote2.csv\")\n",
    "# # pd.read_csv(\"scaled_x_test_smote2.csv\")\n",
    "# scaled_x_cv=pd.read_csv(\"scaled_x_cv_smote2.csv\")"
   ]
  },
  {
   "cell_type": "code",
   "execution_count": 11,
   "metadata": {},
   "outputs": [],
   "source": [
    "y_test_copy=pd.read_csv(\"y_test_smote3.csv\")\n",
    "x_test=pd.read_csv(\"x_test_smote3.csv\")"
   ]
  },
  {
   "cell_type": "code",
   "execution_count": 12,
   "metadata": {},
   "outputs": [],
   "source": [
    "X_train_res=pd.read_csv(\"X_train_res_smote3.csv\")\n",
    "y_train_res=pd.read_csv(\"y_train_res_smote3.csv\")"
   ]
  },
  {
   "cell_type": "code",
   "execution_count": 13,
   "metadata": {},
   "outputs": [],
   "source": [
    "X_train_res=X_train_res.drop('Unnamed: 0',axis=1)\n",
    "y_train_res=y_train_res.drop('Unnamed: 0',axis=1)\n",
    "x_test=x_test.drop('Unnamed: 0',axis=1)\n"
   ]
  },
  {
   "cell_type": "code",
   "execution_count": 14,
   "metadata": {},
   "outputs": [],
   "source": [
    "y_test_copy=y_test_copy.drop('Unnamed: 0',axis=1)\n",
    "# scaled_x_test=scaled_x_test.drop('Unnamed: 0',axis=1)\n",
    "# scaled_x_cv=scaled_x_cv.drop('Unnamed: 0',axis=1)\n"
   ]
  },
  {
   "cell_type": "code",
   "execution_count": 34,
   "metadata": {},
   "outputs": [],
   "source": [
    "y_test=y_test_copy"
   ]
  },
  {
   "cell_type": "code",
   "execution_count": 18,
   "metadata": {},
   "outputs": [],
   "source": [
    "y_valid=pd.read_csv(\"y_valid_smote3.csv\")\n",
    "x_valid=pd.read_csv(\"x_valid_smote3.csv\")"
   ]
  },
  {
   "cell_type": "code",
   "execution_count": 26,
   "metadata": {},
   "outputs": [],
   "source": [
    "x_valid=x_valid.drop('Unnamed: 0',axis=1)\n",
    "y_valid=y_valid.drop('Unnamed: 0',axis=1)"
   ]
  },
  {
   "cell_type": "code",
   "execution_count": 54,
   "metadata": {},
   "outputs": [
    {
     "data": {
      "text/plain": [
       "(2026, 1)"
      ]
     },
     "execution_count": 54,
     "metadata": {},
     "output_type": "execute_result"
    }
   ],
   "source": [
    "y_valid.shape"
   ]
  },
  {
   "cell_type": "code",
   "execution_count": 27,
   "metadata": {
    "scrolled": true
   },
   "outputs": [],
   "source": [
    "#  Scaling features\n",
    "scaler = StandardScaler()\n",
    "scaler.fit(X_train_res)\n",
    "\n",
    "scaled_x_train = scaler.transform(X_train_res)\n",
    "scaled_x_test = scaler.transform(x_test)\n",
    "\n",
    "\n",
    "scaled_x_valid=scaler.transform(x_valid)\n",
    "# scaled_y_cv =scaler.transform(y_cv)"
   ]
  },
  {
   "cell_type": "code",
   "execution_count": 39,
   "metadata": {},
   "outputs": [
    {
     "data": {
      "text/plain": [
       "(7675, 32)"
      ]
     },
     "execution_count": 39,
     "metadata": {},
     "output_type": "execute_result"
    }
   ],
   "source": [
    "scaled_x_train.shape\n",
    "\n"
   ]
  },
  {
   "cell_type": "code",
   "execution_count": null,
   "metadata": {
    "scrolled": true
   },
   "outputs": [],
   "source": [
    "y_train_res.shape"
   ]
  },
  {
   "cell_type": "code",
   "execution_count": 41,
   "metadata": {},
   "outputs": [],
   "source": [
    "input_shape=[scaled_x_train.shape[1]]"
   ]
  },
  {
   "cell_type": "code",
   "execution_count": 42,
   "metadata": {},
   "outputs": [],
   "source": [
    "def create_model(  hidden_layers,learning_rate):\n",
    "  # Initialize the constructor\n",
    "    model =  keras.Sequential()\n",
    "      # Add an input layer\n",
    "    activation='sigmoid'\n",
    "    model.add(layers.Dense(256, activation=activation, input_shape=input_shape))\n",
    "    for i in range(hidden_layers):\n",
    "          # Add one hidden layer\n",
    "        model.add(layers.Dense(8, activation=activation))\n",
    "\n",
    "      # Add an output layer \n",
    "    model.add(layers.Dense(1, activation=activation))\n",
    "    opt = keras.optimizers.Adam(learning_rate=learning_rate)\n",
    "      #compile model\n",
    "    model.compile(loss='binary_crossentropy', optimizer=opt, metrics=\n",
    "      ['accuracy'])\n",
    "\n",
    "    return model\n",
    "\n",
    "import joblib\n",
    "\n",
    "# joblib.dump(DTmodel, 'DTgrid_NLP.pkl')\n",
    "\n",
    "from sklearn import metrics\n",
    "\n",
    "# tfidf_vector_X = xtrain_tfidf_ngram.toarray()  #//shape - (3,6)\n",
    "# tfidf_vector_valid= xvalid_tfidf_ngram.toarray() #//shape - (3,6)\n",
    "# tfidf_vector_X = tfidf_vector_X[:, :, None] #//shape - (3,6,1) \n",
    "# tfidf_vector_valid = tfidf_vector_valid[:, :, None] #//shape - (3,6,1)\n",
    "\n",
    "\n",
    "# tfidf_vector_X.shape[1:]\n",
    "\n",
    "from tensorflow import keras\n",
    "from tensorflow.keras import layers\n",
    "\n",
    "# input_shape= [x_train.shape[1]]\n",
    "\n",
    "# NNmodel = create_model(optimizer='adam', activation = 'sigmoid', hidden_layers=1,learning_rate=0.01)\n",
    "\n",
    "\n"
   ]
  },
  {
   "cell_type": "code",
   "execution_count": 29,
   "metadata": {},
   "outputs": [],
   "source": [
    "from sklearn.model_selection import RandomizedSearchCV, GridSearchCV\n",
    "from sklearn.metrics import roc_auc_score\n",
    "from sklearn.model_selection import StratifiedKFold\n"
   ]
  },
  {
   "cell_type": "code",
   "execution_count": null,
   "metadata": {},
   "outputs": [],
   "source": [
    "# y_test"
   ]
  },
  {
   "cell_type": "code",
   "execution_count": null,
   "metadata": {},
   "outputs": [],
   "source": [
    "y_test=y_test_copy['Attrition_Flag']"
   ]
  },
  {
   "cell_type": "code",
   "execution_count": 32,
   "metadata": {
    "scrolled": true
   },
   "outputs": [],
   "source": [
    "y_train_res['Attrition_Flag']=y_train_res['Attrition_Flag'].map({'Existing Customer': 1, 'Attrited Customer': 0})"
   ]
  },
  {
   "cell_type": "code",
   "execution_count": null,
   "metadata": {},
   "outputs": [],
   "source": [
    "y_train_res=y_train_res['Attrition_Flag']"
   ]
  },
  {
   "cell_type": "code",
   "execution_count": 36,
   "metadata": {},
   "outputs": [],
   "source": [
    "y_test['Attrition_Flag']=y_test['Attrition_Flag'].map({'Existing Customer': 1, 'Attrited Customer': 0})\n"
   ]
  },
  {
   "cell_type": "code",
   "execution_count": 44,
   "metadata": {},
   "outputs": [
    {
     "data": {
      "text/plain": [
       "(7675, 32)"
      ]
     },
     "execution_count": 44,
     "metadata": {},
     "output_type": "execute_result"
    }
   ],
   "source": [
    "scaled_x_train.shape"
   ]
  },
  {
   "cell_type": "code",
   "execution_count": null,
   "metadata": {},
   "outputs": [],
   "source": [
    "y_test_01.shape"
   ]
  },
  {
   "cell_type": "code",
   "execution_count": 43,
   "metadata": {
    "scrolled": true
   },
   "outputs": [
    {
     "ename": "AttributeError",
     "evalue": "'GridSearchCV' object has no attribute 'history'",
     "output_type": "error",
     "traceback": [
      "\u001b[0;31m---------------------------------------------------------------------------\u001b[0m",
      "\u001b[0;31mAttributeError\u001b[0m                            Traceback (most recent call last)",
      "\u001b[0;32m<ipython-input-43-9a46e84a50a2>\u001b[0m in \u001b[0;36m<module>\u001b[0;34m\u001b[0m\n\u001b[1;32m     16\u001b[0m )\n\u001b[1;32m     17\u001b[0m \u001b[0;34m\u001b[0m\u001b[0m\n\u001b[0;32m---> 18\u001b[0;31m \u001b[0mhistory_df\u001b[0m \u001b[0;34m=\u001b[0m \u001b[0mpd\u001b[0m\u001b[0;34m.\u001b[0m\u001b[0mDataFrame\u001b[0m\u001b[0;34m(\u001b[0m\u001b[0mhistory\u001b[0m\u001b[0;34m.\u001b[0m\u001b[0mhistory\u001b[0m\u001b[0;34m)\u001b[0m\u001b[0;34m\u001b[0m\u001b[0;34m\u001b[0m\u001b[0m\n\u001b[0m\u001b[1;32m     19\u001b[0m \u001b[0mhistory_df\u001b[0m\u001b[0;34m.\u001b[0m\u001b[0mloc\u001b[0m\u001b[0;34m[\u001b[0m\u001b[0;34m:\u001b[0m\u001b[0;34m,\u001b[0m \u001b[0;34m[\u001b[0m\u001b[0;34m'loss'\u001b[0m\u001b[0;34m,\u001b[0m \u001b[0;34m'val_loss'\u001b[0m\u001b[0;34m]\u001b[0m\u001b[0;34m]\u001b[0m\u001b[0;34m.\u001b[0m\u001b[0mplot\u001b[0m\u001b[0;34m(\u001b[0m\u001b[0mtitle\u001b[0m\u001b[0;34m=\u001b[0m\u001b[0;34m\"Cross-entropy\"\u001b[0m\u001b[0;34m)\u001b[0m\u001b[0;34m\u001b[0m\u001b[0;34m\u001b[0m\u001b[0m\n\u001b[1;32m     20\u001b[0m \u001b[0mhistory_df\u001b[0m\u001b[0;34m.\u001b[0m\u001b[0mloc\u001b[0m\u001b[0;34m[\u001b[0m\u001b[0;34m:\u001b[0m\u001b[0;34m,\u001b[0m \u001b[0;34m[\u001b[0m\u001b[0;34m'accuracy'\u001b[0m\u001b[0;34m,\u001b[0m \u001b[0;34m'val_accuracy'\u001b[0m\u001b[0;34m]\u001b[0m\u001b[0;34m]\u001b[0m\u001b[0;34m.\u001b[0m\u001b[0mplot\u001b[0m\u001b[0;34m(\u001b[0m\u001b[0mtitle\u001b[0m\u001b[0;34m=\u001b[0m\u001b[0;34m\"Accuracy\"\u001b[0m\u001b[0;34m)\u001b[0m\u001b[0;34m\u001b[0m\u001b[0;34m\u001b[0m\u001b[0m\n",
      "\u001b[0;31mAttributeError\u001b[0m: 'GridSearchCV' object has no attribute 'history'"
     ]
    }
   ],
   "source": [
    "from tensorflow.keras.wrappers.scikit_learn import KerasClassifier\n",
    "model =  KerasClassifier(build_fn=create_model, verbose = False)  \n",
    "\n",
    "param_grid={'learning_rate':[0.1,0.001,0.01,0.05,0.05,0.5],'hidden_layers':[2,4,6,8,10]}\n",
    "\n",
    "gridNN = GridSearchCV(estimator = model, param_grid = param_grid)\n",
    "\n",
    "model.get_params()\n",
    "\n",
    "history = gridNN.fit(\n",
    "     scaled_x_train, y_train_res,\n",
    "    validation_data=(scaled_x_test, y_test),\n",
    "    batch_size=512,\n",
    "    epochs=200,\n",
    "#     callbacks=[early_stopping],\n",
    ")\n",
    "\n"
   ]
  },
  {
   "cell_type": "code",
   "execution_count": 58,
   "metadata": {},
   "outputs": [
    {
     "data": {
      "text/plain": [
       "{'hidden_layers': 4, 'learning_rate': 0.001}"
      ]
     },
     "execution_count": 58,
     "metadata": {},
     "output_type": "execute_result"
    }
   ],
   "source": [
    "history.best_params_\n",
    "\n",
    "# print(history.best_score_)"
   ]
  },
  {
   "cell_type": "code",
   "execution_count": 48,
   "metadata": {
    "scrolled": true
   },
   "outputs": [
    {
     "name": "stderr",
     "output_type": "stream",
     "text": [
      "/home/dheekshitha-vibha/miniconda3/envs/myenv/lib/python3.6/site-packages/tensorflow/python/keras/engine/sequential.py:450: UserWarning: `model.predict_classes()` is deprecated and will be removed after 2021-01-01. Please use instead:* `np.argmax(model.predict(x), axis=-1)`,   if your model does multi-class classification   (e.g. if it uses a `softmax` last-layer activation).* `(model.predict(x) > 0.5).astype(\"int32\")`,   if your model does binary classification   (e.g. if it uses a `sigmoid` last-layer activation).\n",
      "  warnings.warn('`model.predict_classes()` is deprecated and '\n"
     ]
    },
    {
     "data": {
      "text/plain": [
       "array([[1],\n",
       "       [1],\n",
       "       [1],\n",
       "       ...,\n",
       "       [1],\n",
       "       [1],\n",
       "       [1]])"
      ]
     },
     "execution_count": 48,
     "metadata": {},
     "output_type": "execute_result"
    }
   ],
   "source": [
    "y_pred_SVM1 = history.predict(scaled_x_valid)\n",
    "y_pred_SVM1"
   ]
  },
  {
   "cell_type": "code",
   "execution_count": 49,
   "metadata": {},
   "outputs": [],
   "source": [
    "def plotconfusionMatrix(modelObj,ytest,xtest):\n",
    "#     model_DecTreeClass2.fit(X_train_res, y_train_res)\n",
    "    y_pred_DecTreeClass2 = modelObj.predict(xtest)\n",
    "    conf_mat2 = metrics.confusion_matrix(ytest, y_pred_DecTreeClass2)\n",
    "    plt.figure(figsize=(8,6))\n",
    "    sns.heatmap(conf_mat2,annot=True)\n",
    "    plt.title(\"Confusion_matrix\")\n",
    "    plt.xlabel(\"Predicted Class\")\n",
    "    plt.ylabel(\"Actual class\")\n",
    "    plt.show()\n",
    "    print('Confusion matrix: \\n', conf_mat2)\n",
    "    print('TP: ', conf_mat2[1,1])\n",
    "    print('TN: ', conf_mat2[0,0])\n",
    "    print('FP: ', conf_mat2[0,1])\n",
    "    print('FN: ', conf_mat2[1,0])\n",
    "\n",
    "def getMetrics(modelObj,xTrain,yTrain,xValid,yValid):\n",
    "    y_pred_DecTreeClass2 = modelObj.predict(xValid)\n",
    "    print('Classification report: \\n', metrics.classification_report(yValid, y_pred_DecTreeClass2))\n",
    "    print('Training Accuracy_Score:',metrics.accuracy_score(yTrain, modelObj.predict(xTrain))*100,'%')\n",
    "    print('Training Precision:',metrics.precision_score(yTrain, modelObj.predict(xTrain))*100,'%')\n",
    "    print('Training Recall:',metrics.recall_score(yTrain, modelObj.predict(xTrain))*100,'%')\n",
    "    \n",
    "    print('Training F1 Score:',metrics.f1_score(yTrain, modelObj.predict(xTrain))*100,'%')\n",
    "\n",
    "    \n",
    "    print('Validation Accuracy_Score:',metrics.accuracy_score(yValid, y_pred_DecTreeClass2)*100,'%')\n",
    "    print('Validation Precision:',metrics.precision_score(yValid, y_pred_DecTreeClass2)*100,'%')\n",
    "    print('Validation Recall:',metrics.recall_score(yValid, y_pred_DecTreeClass2)*100,'%')\n",
    "    \n",
    "    print('Validation F1 Score:',metrics.f1_score(yValid, y_pred_DecTreeClass2)*100,'%')"
   ]
  },
  {
   "cell_type": "code",
   "execution_count": 55,
   "metadata": {},
   "outputs": [],
   "source": [
    "y_valid['Attrition_Flag']=y_valid['Attrition_Flag'].map({'Existing Customer': 1, 'Attrited Customer': 0})"
   ]
  },
  {
   "cell_type": "code",
   "execution_count": 56,
   "metadata": {
    "scrolled": true
   },
   "outputs": [
    {
     "name": "stderr",
     "output_type": "stream",
     "text": [
      "/home/dheekshitha-vibha/miniconda3/envs/myenv/lib/python3.6/site-packages/tensorflow/python/keras/engine/sequential.py:450: UserWarning: `model.predict_classes()` is deprecated and will be removed after 2021-01-01. Please use instead:* `np.argmax(model.predict(x), axis=-1)`,   if your model does multi-class classification   (e.g. if it uses a `softmax` last-layer activation).* `(model.predict(x) > 0.5).astype(\"int32\")`,   if your model does binary classification   (e.g. if it uses a `sigmoid` last-layer activation).\n",
      "  warnings.warn('`model.predict_classes()` is deprecated and '\n"
     ]
    },
    {
     "data": {
      "image/png": "[encoded data removed]",
      "text/plain": [
       "<Figure size 576x432 with 2 Axes>"
      ]
     },
     "metadata": {
      "needs_background": "light"
     },
     "output_type": "display_data"
    },
    {
     "name": "stdout",
     "output_type": "stream",
     "text": [
      "Confusion matrix: \n",
      " [[ 277   62]\n",
      " [  49 1638]]\n",
      "TP:  1638\n",
      "TN:  277\n",
      "FP:  62\n",
      "FN:  49\n",
      "Classification report: \n",
      "               precision    recall  f1-score   support\n",
      "\n",
      "           0       0.85      0.82      0.83       339\n",
      "           1       0.96      0.97      0.97      1687\n",
      "\n",
      "    accuracy                           0.95      2026\n",
      "   macro avg       0.91      0.89      0.90      2026\n",
      "weighted avg       0.94      0.95      0.94      2026\n",
      "\n"
     ]
    },
    {
     "name": "stderr",
     "output_type": "stream",
     "text": [
      "/home/dheekshitha-vibha/miniconda3/envs/myenv/lib/python3.6/site-packages/tensorflow/python/keras/engine/sequential.py:450: UserWarning: `model.predict_classes()` is deprecated and will be removed after 2021-01-01. Please use instead:* `np.argmax(model.predict(x), axis=-1)`,   if your model does multi-class classification   (e.g. if it uses a `softmax` last-layer activation).* `(model.predict(x) > 0.5).astype(\"int32\")`,   if your model does binary classification   (e.g. if it uses a `sigmoid` last-layer activation).\n",
      "  warnings.warn('`model.predict_classes()` is deprecated and '\n",
      "/home/dheekshitha-vibha/miniconda3/envs/myenv/lib/python3.6/site-packages/tensorflow/python/keras/engine/sequential.py:450: UserWarning: `model.predict_classes()` is deprecated and will be removed after 2021-01-01. Please use instead:* `np.argmax(model.predict(x), axis=-1)`,   if your model does multi-class classification   (e.g. if it uses a `softmax` last-layer activation).* `(model.predict(x) > 0.5).astype(\"int32\")`,   if your model does binary classification   (e.g. if it uses a `sigmoid` last-layer activation).\n",
      "  warnings.warn('`model.predict_classes()` is deprecated and '\n"
     ]
    },
    {
     "name": "stdout",
     "output_type": "stream",
     "text": [
      "Training Accuracy_Score: 97.98045602605863 %\n",
      "Training Precision: 98.4759671746776 %\n"
     ]
    },
    {
     "name": "stderr",
     "output_type": "stream",
     "text": [
      "/home/dheekshitha-vibha/miniconda3/envs/myenv/lib/python3.6/site-packages/tensorflow/python/keras/engine/sequential.py:450: UserWarning: `model.predict_classes()` is deprecated and will be removed after 2021-01-01. Please use instead:* `np.argmax(model.predict(x), axis=-1)`,   if your model does multi-class classification   (e.g. if it uses a `softmax` last-layer activation).* `(model.predict(x) > 0.5).astype(\"int32\")`,   if your model does binary classification   (e.g. if it uses a `sigmoid` last-layer activation).\n",
      "  warnings.warn('`model.predict_classes()` is deprecated and '\n",
      "/home/dheekshitha-vibha/miniconda3/envs/myenv/lib/python3.6/site-packages/tensorflow/python/keras/engine/sequential.py:450: UserWarning: `model.predict_classes()` is deprecated and will be removed after 2021-01-01. Please use instead:* `np.argmax(model.predict(x), axis=-1)`,   if your model does multi-class classification   (e.g. if it uses a `softmax` last-layer activation).* `(model.predict(x) > 0.5).astype(\"int32\")`,   if your model does binary classification   (e.g. if it uses a `sigmoid` last-layer activation).\n",
      "  warnings.warn('`model.predict_classes()` is deprecated and '\n"
     ]
    },
    {
     "name": "stdout",
     "output_type": "stream",
     "text": [
      "Training Recall: 98.49521203830369 %\n",
      "Training F1 Score: 98.48558866634097 %\n",
      "Validation Accuracy_Score: 94.52122408687067 %\n",
      "Validation Precision: 96.35294117647058 %\n",
      "Validation Recall: 97.0954356846473 %\n",
      "Validation F1 Score: 96.72276350752878 %\n"
     ]
    },
    {
     "name": "stderr",
     "output_type": "stream",
     "text": [
      "/home/dheekshitha-vibha/miniconda3/envs/myenv/lib/python3.6/site-packages/tensorflow/python/keras/engine/sequential.py:450: UserWarning: `model.predict_classes()` is deprecated and will be removed after 2021-01-01. Please use instead:* `np.argmax(model.predict(x), axis=-1)`,   if your model does multi-class classification   (e.g. if it uses a `softmax` last-layer activation).* `(model.predict(x) > 0.5).astype(\"int32\")`,   if your model does binary classification   (e.g. if it uses a `sigmoid` last-layer activation).\n",
      "  warnings.warn('`model.predict_classes()` is deprecated and '\n"
     ]
    }
   ],
   "source": [
    "\n",
    "plotconfusionMatrix(history,y_valid,scaled_x_valid)\n",
    "\n",
    "getMetrics(history,scaled_x_train,y_train_res,scaled_x_valid,y_valid)"
   ]
  },
  {
   "cell_type": "code",
   "execution_count": 63,
   "metadata": {},
   "outputs": [],
   "source": [
    "# sess.run(optimizer._lr)\n",
    "def create_modelWithDropBatch(  hidden_layers,learning_rate):\n",
    "  # Initialize the constructor\n",
    "    model =  keras.Sequential()\n",
    "      # Add an input layer\n",
    "    activation='sigmoid'\n",
    "    model.add(layers.Dense(256, activation=activation, input_shape=input_shape))\n",
    "    for i in range(hidden_layers):\n",
    "          # Add one hidden layer\n",
    "        model.add(layers.BatchNormalization())\n",
    "        model.add(layers.Dropout(0.5))\n",
    "        model.add(layers.Dense(8, activation='relu'))\n",
    "\n",
    "      # Add an output layer \n",
    "    model.add(layers.Dense(1, activation=activation))\n",
    "    opt = keras.optimizers.Adam(learning_rate=learning_rate)\n",
    "      #compile model\n",
    "    model.compile(loss='binary_crossentropy', optimizer=opt, metrics=\n",
    "      ['accuracy'])\n",
    "\n",
    "    return model\n",
    "\n"
   ]
  },
  {
   "cell_type": "code",
   "execution_count": 64,
   "metadata": {},
   "outputs": [
    {
     "name": "stdout",
     "output_type": "stream",
     "text": [
      "{'hidden_layers': 4, 'learning_rate': 0.01}\n",
      "0.9494462609291077\n"
     ]
    }
   ],
   "source": [
    "#\n",
    "model_Batch_drop_relu =  KerasClassifier(build_fn=create_modelWithDropBatch, verbose = False)  \n",
    "\n",
    "param_grid={'learning_rate':[0.1,0.001,0.01,0.05,0.05,0.5],'hidden_layers':[2,4,6,8,10]}\n",
    "\n",
    "gridNN_Batch_drop_relu = GridSearchCV(estimator = model_Batch_drop_relu, param_grid = param_grid)\n",
    "\n",
    "model_Batch_drop_relu.get_params()\n",
    "\n",
    "history_Batch_drop_relu = gridNN_Batch_drop_relu.fit(\n",
    "     scaled_x_train, y_train_res,\n",
    "    validation_data=(scaled_x_valid, y_valid),\n",
    "    batch_size=512,\n",
    "    epochs=200,\n",
    "#     callbacks=[early_stopping],\n",
    ")\n",
    "\n",
    "print(history_Batch_drop_relu.best_params_)\n",
    "\n",
    "print(history_Batch_drop_relu.best_score_)\n",
    "# print(grid.best_params_)"
   ]
  },
  {
   "cell_type": "code",
   "execution_count": 66,
   "metadata": {},
   "outputs": [
    {
     "name": "stdout",
     "output_type": "stream",
     "text": [
      "Accuracy_Score: 94.91609081934847 %\n",
      "precision_score: 96.53349001175087 %\n",
      "recall_score: 97.3918197984588 %\n"
     ]
    },
    {
     "name": "stderr",
     "output_type": "stream",
     "text": [
      "/home/dheekshitha-vibha/miniconda3/envs/myenv/lib/python3.6/site-packages/tensorflow/python/keras/engine/sequential.py:450: UserWarning: `model.predict_classes()` is deprecated and will be removed after 2021-01-01. Please use instead:* `np.argmax(model.predict(x), axis=-1)`,   if your model does multi-class classification   (e.g. if it uses a `softmax` last-layer activation).* `(model.predict(x) > 0.5).astype(\"int32\")`,   if your model does binary classification   (e.g. if it uses a `sigmoid` last-layer activation).\n",
      "  warnings.warn('`model.predict_classes()` is deprecated and '\n"
     ]
    }
   ],
   "source": [
    "y_pred_SVM = gridNN_Batch_drop_relu.predict(scaled_x_valid)\n",
    "\n",
    "\n",
    "# print('Classification report: \\n', metrics.classification_report(y_test, model))\n",
    "print('Accuracy_Score:',metrics.accuracy_score(y_valid, y_pred_SVM)*100,'%')\n",
    "\n",
    "\n",
    "print('precision_score:',metrics.precision_score(y_valid, y_pred_SVM)*100,'%')\n",
    "\n",
    "print('recall_score:',metrics.recall_score(y_valid, y_pred_SVM)*100,'%')"
   ]
  },
  {
   "cell_type": "code",
   "execution_count": 68,
   "metadata": {
    "collapsed": true
   },
   "outputs": [
    {
     "name": "stderr",
     "output_type": "stream",
     "text": [
      "/home/dheekshitha-vibha/miniconda3/envs/myenv/lib/python3.6/site-packages/tensorflow/python/keras/engine/sequential.py:450: UserWarning: `model.predict_classes()` is deprecated and will be removed after 2021-01-01. Please use instead:* `np.argmax(model.predict(x), axis=-1)`,   if your model does multi-class classification   (e.g. if it uses a `softmax` last-layer activation).* `(model.predict(x) > 0.5).astype(\"int32\")`,   if your model does binary classification   (e.g. if it uses a `sigmoid` last-layer activation).\n",
      "  warnings.warn('`model.predict_classes()` is deprecated and '\n",
      "/home/dheekshitha-vibha/miniconda3/envs/myenv/lib/python3.6/site-packages/tensorflow/python/keras/engine/sequential.py:450: UserWarning: `model.predict_classes()` is deprecated and will be removed after 2021-01-01. Please use instead:* `np.argmax(model.predict(x), axis=-1)`,   if your model does multi-class classification   (e.g. if it uses a `softmax` last-layer activation).* `(model.predict(x) > 0.5).astype(\"int32\")`,   if your model does binary classification   (e.g. if it uses a `sigmoid` last-layer activation).\n",
      "  warnings.warn('`model.predict_classes()` is deprecated and '\n"
     ]
    },
    {
     "name": "stdout",
     "output_type": "stream",
     "text": [
      "Training Accuracy_Score: 97.92833876221498 %\n",
      "Training Recall: 98.43658393589995 %\n"
     ]
    },
    {
     "name": "stderr",
     "output_type": "stream",
     "text": [
      "/home/dheekshitha-vibha/miniconda3/envs/myenv/lib/python3.6/site-packages/tensorflow/python/keras/engine/sequential.py:450: UserWarning: `model.predict_classes()` is deprecated and will be removed after 2021-01-01. Please use instead:* `np.argmax(model.predict(x), axis=-1)`,   if your model does multi-class classification   (e.g. if it uses a `softmax` last-layer activation).* `(model.predict(x) > 0.5).astype(\"int32\")`,   if your model does binary classification   (e.g. if it uses a `sigmoid` last-layer activation).\n",
      "  warnings.warn('`model.predict_classes()` is deprecated and '\n",
      "/home/dheekshitha-vibha/miniconda3/envs/myenv/lib/python3.6/site-packages/tensorflow/python/keras/engine/sequential.py:450: UserWarning: `model.predict_classes()` is deprecated and will be removed after 2021-01-01. Please use instead:* `np.argmax(model.predict(x), axis=-1)`,   if your model does multi-class classification   (e.g. if it uses a `softmax` last-layer activation).* `(model.predict(x) > 0.5).astype(\"int32\")`,   if your model does binary classification   (e.g. if it uses a `sigmoid` last-layer activation).\n",
      "  warnings.warn('`model.predict_classes()` is deprecated and '\n"
     ]
    },
    {
     "name": "stdout",
     "output_type": "stream",
     "text": [
      "Training precision_score: 98.45582486317436 %\n",
      "Training F1 Score: 98.44620345939607 %\n"
     ]
    }
   ],
   "source": [
    "print('Training Accuracy_Score:',metrics.accuracy_score(y_train_res, gridNN_Batch_drop_relu.best_estimator_.predict(scaled_x_train))*100,'%')\n",
    "print('Training Recall:',metrics.recall_score(y_train_res, gridNN_Batch_drop_relu.best_estimator_.predict(scaled_x_train))*100,'%')\n",
    "print('Training precision_score:',metrics.precision_score(y_train_res, gridNN_Batch_drop_relu.best_estimator_.predict(scaled_x_train))*100,'%')\n",
    "print('Training F1 Score:',metrics.f1_score(y_train_res, gridNN_Batch_drop_relu.best_estimator_.predict(scaled_x_train))*100,'%')\n"
   ]
  },
  {
   "cell_type": "code",
   "execution_count": 70,
   "metadata": {
    "scrolled": true
   },
   "outputs": [
    {
     "name": "stdout",
     "output_type": "stream",
     "text": [
      "Epoch 1/200\n",
      "15/15 [==============================] - 1s 21ms/step - loss: 0.7153 - accuracy: 0.5262 - val_loss: 0.5355 - val_accuracy: 0.8327\n",
      "Epoch 2/200\n",
      "15/15 [==============================] - 0s 8ms/step - loss: 0.5636 - accuracy: 0.7089 - val_loss: 0.4293 - val_accuracy: 0.8327\n",
      "Epoch 3/200\n",
      "15/15 [==============================] - 0s 8ms/step - loss: 0.4996 - accuracy: 0.7538 - val_loss: 0.3426 - val_accuracy: 0.8845\n",
      "Epoch 4/200\n",
      "15/15 [==============================] - 0s 7ms/step - loss: 0.4252 - accuracy: 0.8052 - val_loss: 0.3210 - val_accuracy: 0.8692\n",
      "Epoch 5/200\n",
      "15/15 [==============================] - 0s 7ms/step - loss: 0.3766 - accuracy: 0.8380 - val_loss: 0.4685 - val_accuracy: 0.8346\n",
      "Epoch 6/200\n",
      "15/15 [==============================] - 0s 7ms/step - loss: 0.3289 - accuracy: 0.8717 - val_loss: 0.5585 - val_accuracy: 0.8327\n",
      "Epoch 7/200\n",
      "15/15 [==============================] - 0s 7ms/step - loss: 0.3201 - accuracy: 0.8830 - val_loss: 0.6230 - val_accuracy: 0.8327\n",
      "Epoch 8/200\n",
      "15/15 [==============================] - 0s 7ms/step - loss: 0.3020 - accuracy: 0.8918 - val_loss: 0.6040 - val_accuracy: 0.8327\n",
      "Epoch 9/200\n",
      "15/15 [==============================] - 0s 7ms/step - loss: 0.3053 - accuracy: 0.8913 - val_loss: 0.5533 - val_accuracy: 0.8327\n",
      "Epoch 10/200\n",
      "15/15 [==============================] - 0s 8ms/step - loss: 0.2883 - accuracy: 0.9022 - val_loss: 0.5618 - val_accuracy: 0.8327\n",
      "Epoch 11/200\n",
      "15/15 [==============================] - 0s 7ms/step - loss: 0.2826 - accuracy: 0.9019 - val_loss: 0.5419 - val_accuracy: 0.8327\n",
      "Epoch 12/200\n",
      "15/15 [==============================] - 0s 7ms/step - loss: 0.2623 - accuracy: 0.9113 - val_loss: 0.4655 - val_accuracy: 0.8346\n",
      "Epoch 13/200\n",
      "15/15 [==============================] - 0s 7ms/step - loss: 0.2780 - accuracy: 0.9062 - val_loss: 0.4588 - val_accuracy: 0.8361\n",
      "Epoch 14/200\n",
      "15/15 [==============================] - 0s 7ms/step - loss: 0.2636 - accuracy: 0.9063 - val_loss: 0.4455 - val_accuracy: 0.8401\n",
      "Epoch 15/200\n",
      "15/15 [==============================] - 0s 7ms/step - loss: 0.2756 - accuracy: 0.9045 - val_loss: 0.4007 - val_accuracy: 0.8470\n",
      "Epoch 16/200\n",
      "15/15 [==============================] - 0s 8ms/step - loss: 0.2583 - accuracy: 0.9125 - val_loss: 0.3480 - val_accuracy: 0.8613\n",
      "Epoch 17/200\n",
      "15/15 [==============================] - 0s 9ms/step - loss: 0.2487 - accuracy: 0.9094 - val_loss: 0.3560 - val_accuracy: 0.8544\n",
      "Epoch 18/200\n",
      "15/15 [==============================] - 0s 7ms/step - loss: 0.2528 - accuracy: 0.9139 - val_loss: 0.3514 - val_accuracy: 0.8578\n",
      "Epoch 19/200\n",
      "15/15 [==============================] - 0s 7ms/step - loss: 0.2635 - accuracy: 0.9110 - val_loss: 0.2874 - val_accuracy: 0.8860\n",
      "Epoch 20/200\n",
      "15/15 [==============================] - 0s 7ms/step - loss: 0.2569 - accuracy: 0.9079 - val_loss: 0.2930 - val_accuracy: 0.8825\n",
      "Epoch 21/200\n",
      "15/15 [==============================] - 0s 7ms/step - loss: 0.2550 - accuracy: 0.9078 - val_loss: 0.2484 - val_accuracy: 0.8993\n",
      "Epoch 22/200\n",
      "15/15 [==============================] - 0s 7ms/step - loss: 0.2601 - accuracy: 0.9070 - val_loss: 0.2572 - val_accuracy: 0.8973\n",
      "Epoch 23/200\n",
      "15/15 [==============================] - 0s 7ms/step - loss: 0.2452 - accuracy: 0.9177 - val_loss: 0.2369 - val_accuracy: 0.9033\n",
      "Epoch 24/200\n",
      "15/15 [==============================] - 0s 7ms/step - loss: 0.2404 - accuracy: 0.9141 - val_loss: 0.2429 - val_accuracy: 0.9047\n",
      "Epoch 25/200\n",
      "15/15 [==============================] - 0s 8ms/step - loss: 0.2486 - accuracy: 0.9115 - val_loss: 0.2280 - val_accuracy: 0.9102\n",
      "Epoch 26/200\n",
      "15/15 [==============================] - 0s 7ms/step - loss: 0.2256 - accuracy: 0.9200 - val_loss: 0.2213 - val_accuracy: 0.9107\n",
      "Epoch 27/200\n",
      "15/15 [==============================] - 0s 8ms/step - loss: 0.2346 - accuracy: 0.9171 - val_loss: 0.2229 - val_accuracy: 0.9097\n",
      "Epoch 28/200\n",
      "15/15 [==============================] - 0s 7ms/step - loss: 0.2413 - accuracy: 0.9083 - val_loss: 0.2165 - val_accuracy: 0.9126\n",
      "Epoch 29/200\n",
      "15/15 [==============================] - 0s 7ms/step - loss: 0.2288 - accuracy: 0.9138 - val_loss: 0.2188 - val_accuracy: 0.9131\n",
      "Epoch 30/200\n",
      "15/15 [==============================] - 0s 8ms/step - loss: 0.2269 - accuracy: 0.9141 - val_loss: 0.2089 - val_accuracy: 0.9166\n",
      "Epoch 31/200\n",
      "15/15 [==============================] - 0s 8ms/step - loss: 0.2248 - accuracy: 0.9150 - val_loss: 0.2061 - val_accuracy: 0.9166\n",
      "Epoch 32/200\n",
      "15/15 [==============================] - 0s 8ms/step - loss: 0.2248 - accuracy: 0.9187 - val_loss: 0.2045 - val_accuracy: 0.9215\n",
      "Epoch 33/200\n",
      "15/15 [==============================] - 0s 8ms/step - loss: 0.2188 - accuracy: 0.9202 - val_loss: 0.2125 - val_accuracy: 0.9166\n",
      "Epoch 34/200\n",
      "15/15 [==============================] - 0s 7ms/step - loss: 0.2188 - accuracy: 0.9148 - val_loss: 0.1990 - val_accuracy: 0.9195\n",
      "Epoch 35/200\n",
      "15/15 [==============================] - 0s 7ms/step - loss: 0.2072 - accuracy: 0.9243 - val_loss: 0.1976 - val_accuracy: 0.9245\n",
      "Epoch 36/200\n",
      "15/15 [==============================] - 0s 8ms/step - loss: 0.2189 - accuracy: 0.9187 - val_loss: 0.2021 - val_accuracy: 0.9230\n",
      "Epoch 37/200\n",
      "15/15 [==============================] - 0s 8ms/step - loss: 0.2109 - accuracy: 0.9245 - val_loss: 0.1976 - val_accuracy: 0.9255\n",
      "Epoch 38/200\n",
      "15/15 [==============================] - 0s 7ms/step - loss: 0.2155 - accuracy: 0.9221 - val_loss: 0.1935 - val_accuracy: 0.9255\n",
      "Epoch 39/200\n",
      "15/15 [==============================] - 0s 8ms/step - loss: 0.2084 - accuracy: 0.9262 - val_loss: 0.2011 - val_accuracy: 0.9191\n",
      "Epoch 40/200\n",
      "15/15 [==============================] - 0s 8ms/step - loss: 0.2001 - accuracy: 0.9266 - val_loss: 0.1906 - val_accuracy: 0.9265\n",
      "Epoch 41/200\n",
      "15/15 [==============================] - 0s 7ms/step - loss: 0.2074 - accuracy: 0.9294 - val_loss: 0.1942 - val_accuracy: 0.9255\n",
      "Epoch 42/200\n",
      "15/15 [==============================] - 0s 7ms/step - loss: 0.2104 - accuracy: 0.9224 - val_loss: 0.1960 - val_accuracy: 0.9230\n",
      "Epoch 43/200\n",
      "15/15 [==============================] - 0s 8ms/step - loss: 0.1990 - accuracy: 0.9240 - val_loss: 0.2104 - val_accuracy: 0.9186\n",
      "Epoch 44/200\n",
      "15/15 [==============================] - 0s 17ms/step - loss: 0.2085 - accuracy: 0.9223 - val_loss: 0.1971 - val_accuracy: 0.9250\n",
      "Epoch 45/200\n",
      "15/15 [==============================] - 0s 8ms/step - loss: 0.2009 - accuracy: 0.9286 - val_loss: 0.1911 - val_accuracy: 0.9255\n",
      "Epoch 46/200\n",
      "15/15 [==============================] - 0s 7ms/step - loss: 0.1943 - accuracy: 0.9285 - val_loss: 0.2078 - val_accuracy: 0.9141\n",
      "Epoch 47/200\n",
      "15/15 [==============================] - 0s 8ms/step - loss: 0.2071 - accuracy: 0.9231 - val_loss: 0.1906 - val_accuracy: 0.9299\n",
      "Epoch 48/200\n",
      "15/15 [==============================] - 0s 8ms/step - loss: 0.2028 - accuracy: 0.9253 - val_loss: 0.2058 - val_accuracy: 0.9215\n",
      "Epoch 49/200\n",
      "15/15 [==============================] - 0s 7ms/step - loss: 0.2022 - accuracy: 0.9243 - val_loss: 0.1975 - val_accuracy: 0.9269\n",
      "Epoch 50/200\n",
      "15/15 [==============================] - 0s 7ms/step - loss: 0.2001 - accuracy: 0.9270 - val_loss: 0.2096 - val_accuracy: 0.9156\n",
      "Epoch 51/200\n",
      "15/15 [==============================] - 0s 8ms/step - loss: 0.1995 - accuracy: 0.9271 - val_loss: 0.1938 - val_accuracy: 0.9269\n",
      "Epoch 52/200\n",
      "15/15 [==============================] - 0s 8ms/step - loss: 0.2025 - accuracy: 0.9220 - val_loss: 0.1918 - val_accuracy: 0.9260\n",
      "Epoch 53/200\n",
      "15/15 [==============================] - 0s 7ms/step - loss: 0.1866 - accuracy: 0.9374 - val_loss: 0.1838 - val_accuracy: 0.9304\n",
      "Epoch 54/200\n",
      "15/15 [==============================] - 0s 7ms/step - loss: 0.1892 - accuracy: 0.9310 - val_loss: 0.1838 - val_accuracy: 0.9329\n",
      "Epoch 55/200\n",
      "15/15 [==============================] - 0s 7ms/step - loss: 0.2026 - accuracy: 0.9220 - val_loss: 0.2115 - val_accuracy: 0.9156\n",
      "Epoch 56/200\n",
      "15/15 [==============================] - 0s 8ms/step - loss: 0.1893 - accuracy: 0.9304 - val_loss: 0.2014 - val_accuracy: 0.9205\n",
      "Epoch 57/200\n",
      "15/15 [==============================] - 0s 8ms/step - loss: 0.1805 - accuracy: 0.9331 - val_loss: 0.2103 - val_accuracy: 0.9166\n",
      "Epoch 58/200\n",
      "15/15 [==============================] - 0s 7ms/step - loss: 0.1979 - accuracy: 0.9286 - val_loss: 0.1861 - val_accuracy: 0.9304\n"
     ]
    },
    {
     "name": "stdout",
     "output_type": "stream",
     "text": [
      "Epoch 59/200\n",
      "15/15 [==============================] - 0s 7ms/step - loss: 0.1900 - accuracy: 0.9345 - val_loss: 0.2100 - val_accuracy: 0.9176\n",
      "Epoch 60/200\n",
      "15/15 [==============================] - 0s 8ms/step - loss: 0.1929 - accuracy: 0.9326 - val_loss: 0.1853 - val_accuracy: 0.9304\n",
      "Epoch 61/200\n",
      "15/15 [==============================] - 0s 8ms/step - loss: 0.1969 - accuracy: 0.9275 - val_loss: 0.1918 - val_accuracy: 0.9255\n",
      "Epoch 62/200\n",
      "15/15 [==============================] - 0s 7ms/step - loss: 0.1866 - accuracy: 0.9271 - val_loss: 0.1807 - val_accuracy: 0.9294\n",
      "Epoch 63/200\n",
      "15/15 [==============================] - 0s 7ms/step - loss: 0.1861 - accuracy: 0.9326 - val_loss: 0.1848 - val_accuracy: 0.9319\n",
      "Epoch 64/200\n",
      "15/15 [==============================] - 0s 7ms/step - loss: 0.1805 - accuracy: 0.9355 - val_loss: 0.1858 - val_accuracy: 0.9274\n",
      "Epoch 65/200\n",
      "15/15 [==============================] - 0s 8ms/step - loss: 0.1967 - accuracy: 0.9294 - val_loss: 0.1818 - val_accuracy: 0.9299\n",
      "Epoch 66/200\n",
      "15/15 [==============================] - 0s 7ms/step - loss: 0.1985 - accuracy: 0.9288 - val_loss: 0.1957 - val_accuracy: 0.9274\n",
      "Epoch 67/200\n",
      "15/15 [==============================] - 0s 7ms/step - loss: 0.1837 - accuracy: 0.9357 - val_loss: 0.1784 - val_accuracy: 0.9334\n",
      "Epoch 68/200\n",
      "15/15 [==============================] - 0s 7ms/step - loss: 0.1789 - accuracy: 0.9313 - val_loss: 0.1798 - val_accuracy: 0.9329\n",
      "Epoch 69/200\n",
      "15/15 [==============================] - 0s 8ms/step - loss: 0.1999 - accuracy: 0.9281 - val_loss: 0.1808 - val_accuracy: 0.9334\n",
      "Epoch 70/200\n",
      "15/15 [==============================] - 0s 7ms/step - loss: 0.1903 - accuracy: 0.9307 - val_loss: 0.1903 - val_accuracy: 0.9260\n",
      "Epoch 71/200\n",
      "15/15 [==============================] - 0s 7ms/step - loss: 0.1829 - accuracy: 0.9321 - val_loss: 0.1832 - val_accuracy: 0.9284\n",
      "Epoch 72/200\n",
      "15/15 [==============================] - 0s 7ms/step - loss: 0.1756 - accuracy: 0.9372 - val_loss: 0.1826 - val_accuracy: 0.9329\n",
      "Epoch 73/200\n",
      "15/15 [==============================] - 0s 8ms/step - loss: 0.1853 - accuracy: 0.9332 - val_loss: 0.1804 - val_accuracy: 0.9358\n",
      "Epoch 74/200\n",
      "15/15 [==============================] - 0s 8ms/step - loss: 0.1768 - accuracy: 0.9374 - val_loss: 0.1765 - val_accuracy: 0.9339\n",
      "Epoch 75/200\n",
      "15/15 [==============================] - 0s 7ms/step - loss: 0.1774 - accuracy: 0.9382 - val_loss: 0.1744 - val_accuracy: 0.9358\n",
      "Epoch 76/200\n",
      "15/15 [==============================] - 0s 7ms/step - loss: 0.1804 - accuracy: 0.9357 - val_loss: 0.1771 - val_accuracy: 0.9353\n",
      "Epoch 77/200\n",
      "15/15 [==============================] - 0s 8ms/step - loss: 0.1744 - accuracy: 0.9374 - val_loss: 0.1832 - val_accuracy: 0.9289\n",
      "Epoch 78/200\n",
      "15/15 [==============================] - 0s 7ms/step - loss: 0.1767 - accuracy: 0.9369 - val_loss: 0.1757 - val_accuracy: 0.9329\n",
      "Epoch 79/200\n",
      "15/15 [==============================] - 0s 7ms/step - loss: 0.1695 - accuracy: 0.9403 - val_loss: 0.1744 - val_accuracy: 0.9344\n",
      "Epoch 80/200\n",
      "15/15 [==============================] - 0s 7ms/step - loss: 0.1822 - accuracy: 0.9336 - val_loss: 0.1728 - val_accuracy: 0.9373\n",
      "Epoch 81/200\n",
      "15/15 [==============================] - 0s 7ms/step - loss: 0.1765 - accuracy: 0.9338 - val_loss: 0.1723 - val_accuracy: 0.9378\n",
      "Epoch 82/200\n",
      "15/15 [==============================] - 0s 8ms/step - loss: 0.1716 - accuracy: 0.9358 - val_loss: 0.1745 - val_accuracy: 0.9339\n",
      "Epoch 83/200\n",
      "15/15 [==============================] - 0s 8ms/step - loss: 0.1820 - accuracy: 0.9339 - val_loss: 0.1797 - val_accuracy: 0.9314\n",
      "Epoch 84/200\n",
      "15/15 [==============================] - 0s 7ms/step - loss: 0.1771 - accuracy: 0.9395 - val_loss: 0.1849 - val_accuracy: 0.9279\n",
      "Epoch 85/200\n",
      "15/15 [==============================] - 0s 7ms/step - loss: 0.1747 - accuracy: 0.9350 - val_loss: 0.1752 - val_accuracy: 0.9353\n",
      "Epoch 86/200\n",
      "15/15 [==============================] - 0s 8ms/step - loss: 0.1695 - accuracy: 0.9384 - val_loss: 0.1708 - val_accuracy: 0.9373\n",
      "Epoch 87/200\n",
      "15/15 [==============================] - 0s 8ms/step - loss: 0.1728 - accuracy: 0.9369 - val_loss: 0.1702 - val_accuracy: 0.9388\n",
      "Epoch 88/200\n",
      "15/15 [==============================] - 0s 8ms/step - loss: 0.1724 - accuracy: 0.9357 - val_loss: 0.1841 - val_accuracy: 0.9279\n",
      "Epoch 89/200\n",
      "15/15 [==============================] - 0s 7ms/step - loss: 0.1693 - accuracy: 0.9369 - val_loss: 0.1742 - val_accuracy: 0.9329\n",
      "Epoch 90/200\n",
      "15/15 [==============================] - 0s 7ms/step - loss: 0.1627 - accuracy: 0.9437 - val_loss: 0.1759 - val_accuracy: 0.9353\n",
      "Epoch 91/200\n",
      "15/15 [==============================] - 0s 8ms/step - loss: 0.1805 - accuracy: 0.9309 - val_loss: 0.1789 - val_accuracy: 0.9329\n",
      "Epoch 92/200\n",
      "15/15 [==============================] - 0s 8ms/step - loss: 0.1660 - accuracy: 0.9394 - val_loss: 0.1726 - val_accuracy: 0.9368\n",
      "Epoch 93/200\n",
      "15/15 [==============================] - 0s 7ms/step - loss: 0.1749 - accuracy: 0.9385 - val_loss: 0.1718 - val_accuracy: 0.9358\n",
      "Epoch 94/200\n",
      "15/15 [==============================] - 0s 7ms/step - loss: 0.1645 - accuracy: 0.9393 - val_loss: 0.1703 - val_accuracy: 0.9368\n",
      "Epoch 95/200\n",
      "15/15 [==============================] - 0s 8ms/step - loss: 0.1705 - accuracy: 0.9376 - val_loss: 0.1735 - val_accuracy: 0.9383\n",
      "Epoch 96/200\n",
      "15/15 [==============================] - 0s 7ms/step - loss: 0.1632 - accuracy: 0.9442 - val_loss: 0.1737 - val_accuracy: 0.9348\n",
      "Epoch 97/200\n",
      "15/15 [==============================] - 0s 7ms/step - loss: 0.1607 - accuracy: 0.9448 - val_loss: 0.1674 - val_accuracy: 0.9378\n",
      "Epoch 98/200\n",
      "15/15 [==============================] - 0s 8ms/step - loss: 0.1688 - accuracy: 0.9395 - val_loss: 0.1712 - val_accuracy: 0.9378\n",
      "Epoch 99/200\n",
      "15/15 [==============================] - 0s 8ms/step - loss: 0.1676 - accuracy: 0.9386 - val_loss: 0.1711 - val_accuracy: 0.9418\n",
      "Epoch 100/200\n",
      "15/15 [==============================] - 0s 7ms/step - loss: 0.1598 - accuracy: 0.9395 - val_loss: 0.1695 - val_accuracy: 0.9413\n",
      "Epoch 101/200\n",
      "15/15 [==============================] - 0s 8ms/step - loss: 0.1722 - accuracy: 0.9361 - val_loss: 0.1674 - val_accuracy: 0.9388\n",
      "Epoch 102/200\n",
      "15/15 [==============================] - 0s 8ms/step - loss: 0.1684 - accuracy: 0.9394 - val_loss: 0.1697 - val_accuracy: 0.9378\n",
      "Epoch 103/200\n",
      "15/15 [==============================] - 0s 8ms/step - loss: 0.1698 - accuracy: 0.9373 - val_loss: 0.1691 - val_accuracy: 0.9403\n",
      "Epoch 104/200\n",
      "15/15 [==============================] - 0s 7ms/step - loss: 0.1667 - accuracy: 0.9407 - val_loss: 0.1663 - val_accuracy: 0.9423\n",
      "Epoch 105/200\n",
      "15/15 [==============================] - 0s 8ms/step - loss: 0.1602 - accuracy: 0.9410 - val_loss: 0.1739 - val_accuracy: 0.9344\n",
      "Epoch 106/200\n",
      "15/15 [==============================] - 0s 8ms/step - loss: 0.1723 - accuracy: 0.9406 - val_loss: 0.1680 - val_accuracy: 0.9403\n",
      "Epoch 107/200\n",
      "15/15 [==============================] - 0s 7ms/step - loss: 0.1496 - accuracy: 0.9466 - val_loss: 0.1681 - val_accuracy: 0.9398\n",
      "Epoch 108/200\n",
      "15/15 [==============================] - 0s 8ms/step - loss: 0.1706 - accuracy: 0.9375 - val_loss: 0.1805 - val_accuracy: 0.9339\n",
      "Epoch 109/200\n",
      "15/15 [==============================] - 0s 8ms/step - loss: 0.1720 - accuracy: 0.9392 - val_loss: 0.1859 - val_accuracy: 0.9294\n",
      "Epoch 110/200\n",
      "15/15 [==============================] - 0s 8ms/step - loss: 0.1504 - accuracy: 0.9478 - val_loss: 0.1701 - val_accuracy: 0.9373\n",
      "Epoch 111/200\n",
      "15/15 [==============================] - 0s 7ms/step - loss: 0.1630 - accuracy: 0.9447 - val_loss: 0.1725 - val_accuracy: 0.9373\n",
      "Epoch 112/200\n",
      "15/15 [==============================] - 0s 7ms/step - loss: 0.1559 - accuracy: 0.9463 - val_loss: 0.1627 - val_accuracy: 0.9427\n",
      "Epoch 113/200\n",
      "15/15 [==============================] - 0s 7ms/step - loss: 0.1595 - accuracy: 0.9451 - val_loss: 0.1631 - val_accuracy: 0.9393\n",
      "Epoch 114/200\n",
      "15/15 [==============================] - 0s 7ms/step - loss: 0.1671 - accuracy: 0.9390 - val_loss: 0.1726 - val_accuracy: 0.9334\n",
      "Epoch 115/200\n",
      "15/15 [==============================] - 0s 7ms/step - loss: 0.1532 - accuracy: 0.9463 - val_loss: 0.1690 - val_accuracy: 0.9368\n",
      "Epoch 116/200\n"
     ]
    },
    {
     "name": "stdout",
     "output_type": "stream",
     "text": [
      "15/15 [==============================] - 0s 7ms/step - loss: 0.1491 - accuracy: 0.9484 - val_loss: 0.1694 - val_accuracy: 0.9408\n",
      "Epoch 117/200\n",
      "15/15 [==============================] - 0s 7ms/step - loss: 0.1543 - accuracy: 0.9434 - val_loss: 0.1775 - val_accuracy: 0.9344\n",
      "Epoch 118/200\n",
      "15/15 [==============================] - 0s 7ms/step - loss: 0.1587 - accuracy: 0.9446 - val_loss: 0.1682 - val_accuracy: 0.9427\n",
      "Epoch 119/200\n",
      "15/15 [==============================] - 0s 7ms/step - loss: 0.1581 - accuracy: 0.9457 - val_loss: 0.1659 - val_accuracy: 0.9427\n",
      "Epoch 120/200\n",
      "15/15 [==============================] - 0s 7ms/step - loss: 0.1432 - accuracy: 0.9526 - val_loss: 0.1665 - val_accuracy: 0.9413\n",
      "Epoch 121/200\n",
      "15/15 [==============================] - 0s 7ms/step - loss: 0.1564 - accuracy: 0.9412 - val_loss: 0.1666 - val_accuracy: 0.9358\n",
      "Epoch 122/200\n",
      "15/15 [==============================] - 0s 7ms/step - loss: 0.1412 - accuracy: 0.9503 - val_loss: 0.1635 - val_accuracy: 0.9427\n",
      "Epoch 123/200\n",
      "15/15 [==============================] - 0s 7ms/step - loss: 0.1685 - accuracy: 0.9435 - val_loss: 0.1723 - val_accuracy: 0.9403\n",
      "Epoch 124/200\n",
      "15/15 [==============================] - 0s 7ms/step - loss: 0.1541 - accuracy: 0.9454 - val_loss: 0.1679 - val_accuracy: 0.9388\n",
      "Epoch 125/200\n",
      "15/15 [==============================] - 0s 7ms/step - loss: 0.1335 - accuracy: 0.9500 - val_loss: 0.1620 - val_accuracy: 0.9427\n",
      "Epoch 126/200\n",
      "15/15 [==============================] - 0s 7ms/step - loss: 0.1417 - accuracy: 0.9498 - val_loss: 0.1675 - val_accuracy: 0.9363\n",
      "Epoch 127/200\n",
      "15/15 [==============================] - 0s 7ms/step - loss: 0.1474 - accuracy: 0.9481 - val_loss: 0.1718 - val_accuracy: 0.9437\n",
      "Epoch 128/200\n",
      "15/15 [==============================] - 0s 7ms/step - loss: 0.1540 - accuracy: 0.9480 - val_loss: 0.1837 - val_accuracy: 0.9304\n",
      "Epoch 129/200\n",
      "15/15 [==============================] - 0s 7ms/step - loss: 0.1599 - accuracy: 0.9425 - val_loss: 0.1676 - val_accuracy: 0.9398\n",
      "Epoch 130/200\n",
      "15/15 [==============================] - 0s 7ms/step - loss: 0.1432 - accuracy: 0.9468 - val_loss: 0.1694 - val_accuracy: 0.9413\n",
      "Epoch 131/200\n",
      "15/15 [==============================] - 0s 7ms/step - loss: 0.1400 - accuracy: 0.9516 - val_loss: 0.1805 - val_accuracy: 0.9348\n",
      "Epoch 132/200\n",
      "15/15 [==============================] - 0s 7ms/step - loss: 0.1644 - accuracy: 0.9439 - val_loss: 0.1720 - val_accuracy: 0.9427\n",
      "Epoch 133/200\n",
      "15/15 [==============================] - 0s 7ms/step - loss: 0.1595 - accuracy: 0.9448 - val_loss: 0.1767 - val_accuracy: 0.9393\n",
      "Epoch 134/200\n",
      "15/15 [==============================] - 0s 7ms/step - loss: 0.1478 - accuracy: 0.9525 - val_loss: 0.1708 - val_accuracy: 0.9393\n",
      "Epoch 135/200\n",
      "15/15 [==============================] - 0s 7ms/step - loss: 0.1453 - accuracy: 0.9484 - val_loss: 0.1855 - val_accuracy: 0.9368\n",
      "Epoch 136/200\n",
      "15/15 [==============================] - 0s 7ms/step - loss: 0.1403 - accuracy: 0.9498 - val_loss: 0.1635 - val_accuracy: 0.9423\n",
      "Epoch 137/200\n",
      "15/15 [==============================] - 0s 7ms/step - loss: 0.1525 - accuracy: 0.9454 - val_loss: 0.1662 - val_accuracy: 0.9427\n",
      "Epoch 138/200\n",
      "15/15 [==============================] - 0s 7ms/step - loss: 0.1299 - accuracy: 0.9548 - val_loss: 0.1697 - val_accuracy: 0.9413\n",
      "Epoch 139/200\n",
      "15/15 [==============================] - 0s 7ms/step - loss: 0.1484 - accuracy: 0.9480 - val_loss: 0.1612 - val_accuracy: 0.9378\n",
      "Epoch 140/200\n",
      "15/15 [==============================] - 0s 15ms/step - loss: 0.1399 - accuracy: 0.9490 - val_loss: 0.1746 - val_accuracy: 0.9383\n",
      "Epoch 141/200\n",
      "15/15 [==============================] - 0s 7ms/step - loss: 0.1569 - accuracy: 0.9491 - val_loss: 0.1703 - val_accuracy: 0.9437\n",
      "Epoch 142/200\n",
      "15/15 [==============================] - 0s 7ms/step - loss: 0.1347 - accuracy: 0.9540 - val_loss: 0.1836 - val_accuracy: 0.9373\n",
      "Epoch 143/200\n",
      "15/15 [==============================] - 0s 7ms/step - loss: 0.1462 - accuracy: 0.9487 - val_loss: 0.1740 - val_accuracy: 0.9363\n",
      "Epoch 144/200\n",
      "15/15 [==============================] - 0s 7ms/step - loss: 0.1498 - accuracy: 0.9473 - val_loss: 0.1748 - val_accuracy: 0.9413\n",
      "Epoch 145/200\n",
      "15/15 [==============================] - 0s 7ms/step - loss: 0.1347 - accuracy: 0.9509 - val_loss: 0.1699 - val_accuracy: 0.9418\n",
      "Epoch 146/200\n",
      "15/15 [==============================] - 0s 7ms/step - loss: 0.1477 - accuracy: 0.9495 - val_loss: 0.1773 - val_accuracy: 0.9368\n",
      "Epoch 147/200\n",
      "15/15 [==============================] - 0s 7ms/step - loss: 0.1329 - accuracy: 0.9530 - val_loss: 0.1687 - val_accuracy: 0.9423\n",
      "Epoch 148/200\n",
      "15/15 [==============================] - 0s 7ms/step - loss: 0.1389 - accuracy: 0.9539 - val_loss: 0.1739 - val_accuracy: 0.9452\n",
      "Epoch 149/200\n",
      "15/15 [==============================] - 0s 7ms/step - loss: 0.1273 - accuracy: 0.9565 - val_loss: 0.1620 - val_accuracy: 0.9447\n",
      "Epoch 150/200\n",
      "15/15 [==============================] - 0s 7ms/step - loss: 0.1355 - accuracy: 0.9509 - val_loss: 0.1638 - val_accuracy: 0.9472\n",
      "Epoch 151/200\n",
      "15/15 [==============================] - 0s 7ms/step - loss: 0.1390 - accuracy: 0.9536 - val_loss: 0.1596 - val_accuracy: 0.9467\n",
      "Epoch 152/200\n",
      "15/15 [==============================] - 0s 7ms/step - loss: 0.1361 - accuracy: 0.9526 - val_loss: 0.1657 - val_accuracy: 0.9432\n",
      "Epoch 153/200\n",
      "15/15 [==============================] - 0s 7ms/step - loss: 0.1318 - accuracy: 0.9546 - val_loss: 0.1769 - val_accuracy: 0.9418\n",
      "Epoch 154/200\n",
      "15/15 [==============================] - 0s 7ms/step - loss: 0.1455 - accuracy: 0.9520 - val_loss: 0.1647 - val_accuracy: 0.9457\n",
      "Epoch 155/200\n",
      "15/15 [==============================] - 0s 7ms/step - loss: 0.1466 - accuracy: 0.9527 - val_loss: 0.1681 - val_accuracy: 0.9442\n",
      "Epoch 156/200\n",
      "15/15 [==============================] - 0s 7ms/step - loss: 0.1447 - accuracy: 0.9503 - val_loss: 0.1718 - val_accuracy: 0.9383\n",
      "Epoch 157/200\n",
      "15/15 [==============================] - 0s 7ms/step - loss: 0.1345 - accuracy: 0.9553 - val_loss: 0.1754 - val_accuracy: 0.9452\n",
      "Epoch 158/200\n",
      "15/15 [==============================] - 0s 7ms/step - loss: 0.1336 - accuracy: 0.9494 - val_loss: 0.1619 - val_accuracy: 0.9447\n",
      "Epoch 159/200\n",
      "15/15 [==============================] - 0s 7ms/step - loss: 0.1377 - accuracy: 0.9552 - val_loss: 0.1728 - val_accuracy: 0.9408\n",
      "Epoch 160/200\n",
      "15/15 [==============================] - 0s 7ms/step - loss: 0.1340 - accuracy: 0.9503 - val_loss: 0.1639 - val_accuracy: 0.9437\n",
      "Epoch 161/200\n",
      "15/15 [==============================] - 0s 7ms/step - loss: 0.1325 - accuracy: 0.9524 - val_loss: 0.1605 - val_accuracy: 0.9447\n",
      "Epoch 162/200\n",
      "15/15 [==============================] - 0s 7ms/step - loss: 0.1397 - accuracy: 0.9517 - val_loss: 0.1622 - val_accuracy: 0.9423\n",
      "Epoch 163/200\n",
      "15/15 [==============================] - 0s 7ms/step - loss: 0.1426 - accuracy: 0.9479 - val_loss: 0.1580 - val_accuracy: 0.9457\n",
      "Epoch 164/200\n",
      "15/15 [==============================] - 0s 7ms/step - loss: 0.1561 - accuracy: 0.9482 - val_loss: 0.1673 - val_accuracy: 0.9447\n",
      "Epoch 165/200\n",
      "15/15 [==============================] - 0s 7ms/step - loss: 0.1488 - accuracy: 0.9463 - val_loss: 0.1633 - val_accuracy: 0.9437\n",
      "Epoch 166/200\n",
      "15/15 [==============================] - 0s 7ms/step - loss: 0.1353 - accuracy: 0.9537 - val_loss: 0.1537 - val_accuracy: 0.9467\n",
      "Epoch 167/200\n",
      "15/15 [==============================] - 0s 7ms/step - loss: 0.1340 - accuracy: 0.9562 - val_loss: 0.1678 - val_accuracy: 0.9462\n",
      "Epoch 168/200\n",
      "15/15 [==============================] - 0s 7ms/step - loss: 0.1481 - accuracy: 0.9487 - val_loss: 0.1645 - val_accuracy: 0.9437\n",
      "Epoch 169/200\n",
      "15/15 [==============================] - 0s 7ms/step - loss: 0.1337 - accuracy: 0.9517 - val_loss: 0.1655 - val_accuracy: 0.9383\n",
      "Epoch 170/200\n",
      "15/15 [==============================] - 0s 7ms/step - loss: 0.1328 - accuracy: 0.9541 - val_loss: 0.1703 - val_accuracy: 0.9452\n",
      "Epoch 171/200\n",
      "15/15 [==============================] - 0s 7ms/step - loss: 0.1347 - accuracy: 0.9555 - val_loss: 0.1659 - val_accuracy: 0.9447\n",
      "Epoch 172/200\n",
      "15/15 [==============================] - 0s 7ms/step - loss: 0.1264 - accuracy: 0.9570 - val_loss: 0.1574 - val_accuracy: 0.9482\n",
      "Epoch 173/200\n"
     ]
    },
    {
     "name": "stdout",
     "output_type": "stream",
     "text": [
      "15/15 [==============================] - 0s 8ms/step - loss: 0.1446 - accuracy: 0.9504 - val_loss: 0.1689 - val_accuracy: 0.9378\n",
      "Epoch 174/200\n",
      "15/15 [==============================] - 0s 7ms/step - loss: 0.1279 - accuracy: 0.9541 - val_loss: 0.1606 - val_accuracy: 0.9452\n",
      "Epoch 175/200\n",
      "15/15 [==============================] - 0s 7ms/step - loss: 0.1298 - accuracy: 0.9558 - val_loss: 0.1627 - val_accuracy: 0.9437\n",
      "Epoch 176/200\n",
      "15/15 [==============================] - 0s 7ms/step - loss: 0.1474 - accuracy: 0.9506 - val_loss: 0.1628 - val_accuracy: 0.9462\n",
      "Epoch 177/200\n",
      "15/15 [==============================] - 0s 7ms/step - loss: 0.1256 - accuracy: 0.9562 - val_loss: 0.1581 - val_accuracy: 0.9437\n",
      "Epoch 178/200\n",
      "15/15 [==============================] - 0s 7ms/step - loss: 0.1326 - accuracy: 0.9566 - val_loss: 0.1763 - val_accuracy: 0.9423\n",
      "Epoch 179/200\n",
      "15/15 [==============================] - 0s 7ms/step - loss: 0.1257 - accuracy: 0.9562 - val_loss: 0.1534 - val_accuracy: 0.9432\n",
      "Epoch 180/200\n",
      "15/15 [==============================] - 0s 7ms/step - loss: 0.1243 - accuracy: 0.9557 - val_loss: 0.1630 - val_accuracy: 0.9393\n",
      "Epoch 181/200\n",
      "15/15 [==============================] - 0s 7ms/step - loss: 0.1266 - accuracy: 0.9548 - val_loss: 0.1567 - val_accuracy: 0.9418\n",
      "Epoch 182/200\n",
      "15/15 [==============================] - 0s 7ms/step - loss: 0.1381 - accuracy: 0.9530 - val_loss: 0.1575 - val_accuracy: 0.9437\n",
      "Epoch 183/200\n",
      "15/15 [==============================] - 0s 7ms/step - loss: 0.1264 - accuracy: 0.9584 - val_loss: 0.1461 - val_accuracy: 0.9462\n",
      "Epoch 184/200\n",
      "15/15 [==============================] - 0s 7ms/step - loss: 0.1329 - accuracy: 0.9527 - val_loss: 0.1611 - val_accuracy: 0.9462\n",
      "Epoch 185/200\n",
      "15/15 [==============================] - 0s 7ms/step - loss: 0.1317 - accuracy: 0.9561 - val_loss: 0.1596 - val_accuracy: 0.9442\n",
      "Epoch 186/200\n",
      "15/15 [==============================] - 0s 7ms/step - loss: 0.1255 - accuracy: 0.9561 - val_loss: 0.1602 - val_accuracy: 0.9467\n",
      "Epoch 187/200\n",
      "15/15 [==============================] - 0s 7ms/step - loss: 0.1260 - accuracy: 0.9556 - val_loss: 0.1603 - val_accuracy: 0.9442\n",
      "Epoch 188/200\n",
      "15/15 [==============================] - 0s 7ms/step - loss: 0.1169 - accuracy: 0.9597 - val_loss: 0.1638 - val_accuracy: 0.9457\n",
      "Epoch 189/200\n",
      "15/15 [==============================] - 0s 7ms/step - loss: 0.1272 - accuracy: 0.9583 - val_loss: 0.1670 - val_accuracy: 0.9472\n",
      "Epoch 190/200\n",
      "15/15 [==============================] - 0s 7ms/step - loss: 0.1271 - accuracy: 0.9558 - val_loss: 0.1564 - val_accuracy: 0.9482\n",
      "Epoch 191/200\n",
      "15/15 [==============================] - 0s 7ms/step - loss: 0.1300 - accuracy: 0.9582 - val_loss: 0.1597 - val_accuracy: 0.9477\n",
      "Epoch 192/200\n",
      "15/15 [==============================] - 0s 7ms/step - loss: 0.1331 - accuracy: 0.9537 - val_loss: 0.1505 - val_accuracy: 0.9482\n",
      "Epoch 193/200\n",
      "15/15 [==============================] - 0s 7ms/step - loss: 0.1381 - accuracy: 0.9530 - val_loss: 0.1561 - val_accuracy: 0.9447\n",
      "Epoch 194/200\n",
      "15/15 [==============================] - 0s 7ms/step - loss: 0.1273 - accuracy: 0.9563 - val_loss: 0.1545 - val_accuracy: 0.9447\n",
      "Epoch 195/200\n",
      "15/15 [==============================] - 0s 7ms/step - loss: 0.1292 - accuracy: 0.9544 - val_loss: 0.1509 - val_accuracy: 0.9462\n",
      "Epoch 196/200\n",
      "15/15 [==============================] - 0s 7ms/step - loss: 0.1226 - accuracy: 0.9581 - val_loss: 0.1722 - val_accuracy: 0.9452\n",
      "Epoch 197/200\n",
      "15/15 [==============================] - 0s 7ms/step - loss: 0.1228 - accuracy: 0.9571 - val_loss: 0.1693 - val_accuracy: 0.9462\n",
      "Epoch 198/200\n",
      "15/15 [==============================] - 0s 7ms/step - loss: 0.1243 - accuracy: 0.9585 - val_loss: 0.1509 - val_accuracy: 0.9472\n",
      "Epoch 199/200\n",
      "15/15 [==============================] - 0s 7ms/step - loss: 0.1260 - accuracy: 0.9551 - val_loss: 0.1539 - val_accuracy: 0.9477\n",
      "Epoch 200/200\n",
      "15/15 [==============================] - 0s 7ms/step - loss: 0.1121 - accuracy: 0.9631 - val_loss: 0.1500 - val_accuracy: 0.9482\n"
     ]
    }
   ],
   "source": [
    "bestNN=create_modelWithDropBatch(hidden_layers= 4, learning_rate= 0.01)\n",
    "history2 = bestNN.fit(\n",
    "     scaled_x_train, y_train_res,\n",
    "    validation_data=(scaled_x_valid, y_valid),\n",
    "    batch_size=512,\n",
    "    epochs=200,\n",
    "#     callbacks=[early_stopping],\n",
    ")\n"
   ]
  },
  {
   "cell_type": "code",
   "execution_count": 71,
   "metadata": {
    "scrolled": true
   },
   "outputs": [
    {
     "data": {
      "text/plain": [
       "<AxesSubplot:title={'center':'Accuracy'}>"
      ]
     },
     "execution_count": 71,
     "metadata": {},
     "output_type": "execute_result"
    },
    {
     "data": {
      "image/png": "[encoded data removed]",
      "text/plain": [
       "<Figure size 432x288 with 1 Axes>"
      ]
     },
     "metadata": {
      "needs_background": "light"
     },
     "output_type": "display_data"
    },
    {
     "data": {
      "image/png": "[encoded data removed]",
      "text/plain": [
       "<Figure size 432x288 with 1 Axes>"
      ]
     },
     "metadata": {
      "needs_background": "light"
     },
     "output_type": "display_data"
    }
   ],
   "source": [
    "history_df = pd.DataFrame(history2.history)\n",
    "history_df.loc[:, ['loss', 'val_loss']].plot(title=\"Cross-entropy\")\n",
    "history_df.loc[:, ['accuracy', 'val_accuracy']].plot(title=\"Accuracy\")"
   ]
  },
  {
   "cell_type": "code",
   "execution_count": 72,
   "metadata": {
    "collapsed": true
   },
   "outputs": [
    {
     "name": "stdout",
     "output_type": "stream",
     "text": [
      "Epoch 1/100\n",
      "15/15 [==============================] - 0s 10ms/step - loss: 0.1199 - accuracy: 0.9600 - val_loss: 0.1566 - val_accuracy: 0.9472\n",
      "Epoch 2/100\n",
      "15/15 [==============================] - 0s 8ms/step - loss: 0.1230 - accuracy: 0.9584 - val_loss: 0.1576 - val_accuracy: 0.9506\n",
      "Epoch 3/100\n",
      "15/15 [==============================] - 0s 8ms/step - loss: 0.1262 - accuracy: 0.9562 - val_loss: 0.1661 - val_accuracy: 0.9427\n",
      "Epoch 4/100\n",
      "15/15 [==============================] - 0s 7ms/step - loss: 0.1260 - accuracy: 0.9537 - val_loss: 0.1514 - val_accuracy: 0.9447\n",
      "Epoch 5/100\n",
      "15/15 [==============================] - 0s 8ms/step - loss: 0.1213 - accuracy: 0.9601 - val_loss: 0.1551 - val_accuracy: 0.9467\n",
      "Epoch 6/100\n",
      "15/15 [==============================] - 0s 8ms/step - loss: 0.1191 - accuracy: 0.9574 - val_loss: 0.1469 - val_accuracy: 0.9521\n",
      "Epoch 7/100\n",
      "15/15 [==============================] - 0s 7ms/step - loss: 0.1288 - accuracy: 0.9565 - val_loss: 0.1645 - val_accuracy: 0.9482\n",
      "Epoch 8/100\n",
      "15/15 [==============================] - 0s 7ms/step - loss: 0.1203 - accuracy: 0.9605 - val_loss: 0.1577 - val_accuracy: 0.9477\n",
      "Epoch 9/100\n",
      "15/15 [==============================] - 0s 7ms/step - loss: 0.1227 - accuracy: 0.9577 - val_loss: 0.1495 - val_accuracy: 0.9477\n",
      "Epoch 10/100\n",
      "15/15 [==============================] - 0s 7ms/step - loss: 0.1194 - accuracy: 0.9552 - val_loss: 0.1504 - val_accuracy: 0.9437\n",
      "Epoch 11/100\n",
      "15/15 [==============================] - 0s 8ms/step - loss: 0.1160 - accuracy: 0.9596 - val_loss: 0.1528 - val_accuracy: 0.9462\n",
      "Epoch 12/100\n",
      "15/15 [==============================] - 0s 7ms/step - loss: 0.1207 - accuracy: 0.9582 - val_loss: 0.1571 - val_accuracy: 0.9457\n",
      "Epoch 13/100\n",
      "15/15 [==============================] - 0s 8ms/step - loss: 0.1117 - accuracy: 0.9634 - val_loss: 0.1531 - val_accuracy: 0.9447\n",
      "Epoch 14/100\n",
      "15/15 [==============================] - 0s 7ms/step - loss: 0.1199 - accuracy: 0.9583 - val_loss: 0.1570 - val_accuracy: 0.9437\n",
      "Epoch 15/100\n",
      "15/15 [==============================] - 0s 7ms/step - loss: 0.1253 - accuracy: 0.9566 - val_loss: 0.1583 - val_accuracy: 0.9472\n",
      "Epoch 16/100\n",
      "15/15 [==============================] - 0s 7ms/step - loss: 0.1243 - accuracy: 0.9580 - val_loss: 0.1551 - val_accuracy: 0.9398\n",
      "Epoch 17/100\n",
      "15/15 [==============================] - 0s 7ms/step - loss: 0.1200 - accuracy: 0.9583 - val_loss: 0.1605 - val_accuracy: 0.9452\n",
      "Epoch 18/100\n",
      "15/15 [==============================] - 0s 7ms/step - loss: 0.1196 - accuracy: 0.9597 - val_loss: 0.1676 - val_accuracy: 0.9467\n",
      "Epoch 19/100\n",
      "15/15 [==============================] - 0s 7ms/step - loss: 0.1153 - accuracy: 0.9595 - val_loss: 0.1547 - val_accuracy: 0.9467\n",
      "Epoch 20/100\n",
      "15/15 [==============================] - 0s 7ms/step - loss: 0.1208 - accuracy: 0.9569 - val_loss: 0.1543 - val_accuracy: 0.9457\n",
      "Epoch 21/100\n",
      "15/15 [==============================] - 0s 7ms/step - loss: 0.1195 - accuracy: 0.9596 - val_loss: 0.1543 - val_accuracy: 0.9457\n",
      "Epoch 22/100\n",
      "15/15 [==============================] - 0s 7ms/step - loss: 0.1155 - accuracy: 0.9587 - val_loss: 0.1570 - val_accuracy: 0.9462\n",
      "Epoch 23/100\n",
      "15/15 [==============================] - 0s 7ms/step - loss: 0.1154 - accuracy: 0.9595 - val_loss: 0.1693 - val_accuracy: 0.9467\n",
      "Epoch 24/100\n",
      "15/15 [==============================] - 0s 16ms/step - loss: 0.1173 - accuracy: 0.9587 - val_loss: 0.1508 - val_accuracy: 0.9492\n",
      "Epoch 25/100\n",
      "15/15 [==============================] - 0s 7ms/step - loss: 0.1194 - accuracy: 0.9588 - val_loss: 0.1535 - val_accuracy: 0.9462\n",
      "Epoch 26/100\n",
      "15/15 [==============================] - 0s 7ms/step - loss: 0.1141 - accuracy: 0.9601 - val_loss: 0.1562 - val_accuracy: 0.9477\n",
      "Epoch 27/100\n",
      "15/15 [==============================] - 0s 7ms/step - loss: 0.1035 - accuracy: 0.9621 - val_loss: 0.1482 - val_accuracy: 0.9487\n",
      "Epoch 28/100\n",
      "15/15 [==============================] - 0s 8ms/step - loss: 0.1211 - accuracy: 0.9575 - val_loss: 0.1604 - val_accuracy: 0.9447\n",
      "Epoch 29/100\n",
      "15/15 [==============================] - 0s 8ms/step - loss: 0.1161 - accuracy: 0.9601 - val_loss: 0.1555 - val_accuracy: 0.9452\n",
      "Epoch 30/100\n",
      "15/15 [==============================] - 0s 7ms/step - loss: 0.1050 - accuracy: 0.9648 - val_loss: 0.1518 - val_accuracy: 0.9442\n",
      "Epoch 31/100\n",
      "15/15 [==============================] - 0s 7ms/step - loss: 0.1087 - accuracy: 0.9635 - val_loss: 0.1458 - val_accuracy: 0.9506\n",
      "Epoch 32/100\n",
      "15/15 [==============================] - 0s 7ms/step - loss: 0.1166 - accuracy: 0.9620 - val_loss: 0.1622 - val_accuracy: 0.9477\n",
      "Epoch 33/100\n",
      "15/15 [==============================] - 0s 7ms/step - loss: 0.1129 - accuracy: 0.9608 - val_loss: 0.1567 - val_accuracy: 0.9452\n",
      "Epoch 34/100\n",
      "15/15 [==============================] - 0s 7ms/step - loss: 0.1072 - accuracy: 0.9610 - val_loss: 0.1521 - val_accuracy: 0.9462\n",
      "Epoch 35/100\n",
      "15/15 [==============================] - 0s 8ms/step - loss: 0.1108 - accuracy: 0.9608 - val_loss: 0.1577 - val_accuracy: 0.9462\n",
      "Epoch 36/100\n",
      "15/15 [==============================] - 0s 8ms/step - loss: 0.1145 - accuracy: 0.9621 - val_loss: 0.1576 - val_accuracy: 0.9492\n",
      "Epoch 37/100\n",
      "15/15 [==============================] - 0s 7ms/step - loss: 0.1085 - accuracy: 0.9601 - val_loss: 0.1496 - val_accuracy: 0.9462\n",
      "Epoch 38/100\n",
      "15/15 [==============================] - 0s 8ms/step - loss: 0.1154 - accuracy: 0.9610 - val_loss: 0.1500 - val_accuracy: 0.9497\n",
      "Epoch 39/100\n",
      "15/15 [==============================] - 0s 8ms/step - loss: 0.1063 - accuracy: 0.9620 - val_loss: 0.1469 - val_accuracy: 0.9437\n",
      "Epoch 40/100\n",
      "15/15 [==============================] - 0s 8ms/step - loss: 0.1188 - accuracy: 0.9584 - val_loss: 0.1555 - val_accuracy: 0.9427\n",
      "Epoch 41/100\n",
      "15/15 [==============================] - 0s 8ms/step - loss: 0.1131 - accuracy: 0.9590 - val_loss: 0.1448 - val_accuracy: 0.9467\n",
      "Epoch 42/100\n",
      "15/15 [==============================] - 0s 7ms/step - loss: 0.1164 - accuracy: 0.9599 - val_loss: 0.1398 - val_accuracy: 0.9501\n",
      "Epoch 43/100\n",
      "15/15 [==============================] - 0s 7ms/step - loss: 0.1134 - accuracy: 0.9605 - val_loss: 0.1444 - val_accuracy: 0.9531\n",
      "Epoch 44/100\n",
      "15/15 [==============================] - 0s 7ms/step - loss: 0.1047 - accuracy: 0.9634 - val_loss: 0.1482 - val_accuracy: 0.9506\n",
      "Epoch 45/100\n",
      "15/15 [==============================] - 0s 8ms/step - loss: 0.1069 - accuracy: 0.9653 - val_loss: 0.1593 - val_accuracy: 0.9506\n",
      "Epoch 46/100\n",
      "15/15 [==============================] - 0s 8ms/step - loss: 0.1079 - accuracy: 0.9636 - val_loss: 0.1467 - val_accuracy: 0.9521\n",
      "Epoch 47/100\n",
      "15/15 [==============================] - 0s 7ms/step - loss: 0.1033 - accuracy: 0.9623 - val_loss: 0.1469 - val_accuracy: 0.9482\n",
      "Epoch 48/100\n",
      "15/15 [==============================] - 0s 8ms/step - loss: 0.1182 - accuracy: 0.9607 - val_loss: 0.1538 - val_accuracy: 0.9467\n",
      "Epoch 49/100\n",
      "15/15 [==============================] - 0s 8ms/step - loss: 0.1134 - accuracy: 0.9583 - val_loss: 0.1589 - val_accuracy: 0.9492\n",
      "Epoch 50/100\n",
      "15/15 [==============================] - 0s 7ms/step - loss: 0.1158 - accuracy: 0.9573 - val_loss: 0.1430 - val_accuracy: 0.9511\n",
      "Epoch 51/100\n",
      "15/15 [==============================] - 0s 7ms/step - loss: 0.1110 - accuracy: 0.9616 - val_loss: 0.1484 - val_accuracy: 0.9521\n",
      "Epoch 52/100\n",
      "15/15 [==============================] - 0s 8ms/step - loss: 0.1113 - accuracy: 0.9607 - val_loss: 0.1497 - val_accuracy: 0.9492\n",
      "Epoch 53/100\n",
      "15/15 [==============================] - 0s 7ms/step - loss: 0.1091 - accuracy: 0.9607 - val_loss: 0.1535 - val_accuracy: 0.9418\n",
      "Epoch 54/100\n",
      "15/15 [==============================] - 0s 8ms/step - loss: 0.1106 - accuracy: 0.9647 - val_loss: 0.1480 - val_accuracy: 0.9477\n",
      "Epoch 55/100\n",
      "15/15 [==============================] - 0s 7ms/step - loss: 0.1102 - accuracy: 0.9621 - val_loss: 0.1563 - val_accuracy: 0.9477\n",
      "Epoch 56/100\n",
      "15/15 [==============================] - 0s 7ms/step - loss: 0.1165 - accuracy: 0.9603 - val_loss: 0.1659 - val_accuracy: 0.9501\n",
      "Epoch 57/100\n",
      "15/15 [==============================] - 0s 7ms/step - loss: 0.1009 - accuracy: 0.9643 - val_loss: 0.1434 - val_accuracy: 0.9472\n",
      "Epoch 58/100\n",
      "15/15 [==============================] - 0s 7ms/step - loss: 0.1146 - accuracy: 0.9599 - val_loss: 0.1535 - val_accuracy: 0.9516\n"
     ]
    },
    {
     "name": "stdout",
     "output_type": "stream",
     "text": [
      "Epoch 59/100\n",
      "15/15 [==============================] - 0s 7ms/step - loss: 0.1064 - accuracy: 0.9629 - val_loss: 0.1528 - val_accuracy: 0.9487\n",
      "Epoch 60/100\n",
      "15/15 [==============================] - 0s 7ms/step - loss: 0.1133 - accuracy: 0.9618 - val_loss: 0.1583 - val_accuracy: 0.9408\n",
      "Epoch 61/100\n",
      "15/15 [==============================] - 0s 7ms/step - loss: 0.1086 - accuracy: 0.9593 - val_loss: 0.1596 - val_accuracy: 0.9462\n",
      "Epoch 62/100\n",
      "15/15 [==============================] - 0s 8ms/step - loss: 0.1012 - accuracy: 0.9661 - val_loss: 0.1438 - val_accuracy: 0.9472\n",
      "Epoch 63/100\n",
      "15/15 [==============================] - 0s 7ms/step - loss: 0.1105 - accuracy: 0.9631 - val_loss: 0.1379 - val_accuracy: 0.9536\n",
      "Epoch 64/100\n",
      "15/15 [==============================] - 0s 7ms/step - loss: 0.1099 - accuracy: 0.9622 - val_loss: 0.1435 - val_accuracy: 0.9487\n",
      "Epoch 65/100\n",
      "15/15 [==============================] - 0s 7ms/step - loss: 0.1028 - accuracy: 0.9630 - val_loss: 0.1534 - val_accuracy: 0.9437\n",
      "Epoch 66/100\n",
      "15/15 [==============================] - 0s 7ms/step - loss: 0.1170 - accuracy: 0.9599 - val_loss: 0.1821 - val_accuracy: 0.9408\n",
      "Epoch 67/100\n",
      "15/15 [==============================] - 0s 7ms/step - loss: 0.1147 - accuracy: 0.9591 - val_loss: 0.1459 - val_accuracy: 0.9447\n",
      "Epoch 68/100\n",
      "15/15 [==============================] - 0s 7ms/step - loss: 0.1095 - accuracy: 0.9623 - val_loss: 0.1361 - val_accuracy: 0.9511\n",
      "Epoch 69/100\n",
      "15/15 [==============================] - 0s 7ms/step - loss: 0.1035 - accuracy: 0.9653 - val_loss: 0.1493 - val_accuracy: 0.9501\n",
      "Epoch 70/100\n",
      "15/15 [==============================] - 0s 7ms/step - loss: 0.1052 - accuracy: 0.9640 - val_loss: 0.1567 - val_accuracy: 0.9462\n",
      "Epoch 71/100\n",
      "15/15 [==============================] - 0s 7ms/step - loss: 0.1003 - accuracy: 0.9630 - val_loss: 0.1428 - val_accuracy: 0.9501\n",
      "Epoch 72/100\n",
      "15/15 [==============================] - 0s 7ms/step - loss: 0.1036 - accuracy: 0.9605 - val_loss: 0.1468 - val_accuracy: 0.9432\n",
      "Epoch 73/100\n",
      "15/15 [==============================] - 0s 7ms/step - loss: 0.0988 - accuracy: 0.9656 - val_loss: 0.1406 - val_accuracy: 0.9516\n",
      "Epoch 74/100\n",
      "15/15 [==============================] - 0s 7ms/step - loss: 0.1091 - accuracy: 0.9599 - val_loss: 0.1567 - val_accuracy: 0.9452\n",
      "Epoch 75/100\n",
      "15/15 [==============================] - 0s 7ms/step - loss: 0.1095 - accuracy: 0.9622 - val_loss: 0.1586 - val_accuracy: 0.9506\n",
      "Epoch 76/100\n",
      "15/15 [==============================] - 0s 7ms/step - loss: 0.1094 - accuracy: 0.9612 - val_loss: 0.1392 - val_accuracy: 0.9482\n",
      "Epoch 77/100\n",
      "15/15 [==============================] - 0s 7ms/step - loss: 0.1038 - accuracy: 0.9653 - val_loss: 0.1472 - val_accuracy: 0.9531\n",
      "Epoch 78/100\n",
      "15/15 [==============================] - 0s 8ms/step - loss: 0.0990 - accuracy: 0.9668 - val_loss: 0.1409 - val_accuracy: 0.9467\n",
      "Epoch 79/100\n",
      "15/15 [==============================] - 0s 7ms/step - loss: 0.1066 - accuracy: 0.9610 - val_loss: 0.1432 - val_accuracy: 0.9521\n",
      "Epoch 80/100\n",
      "15/15 [==============================] - 0s 7ms/step - loss: 0.0989 - accuracy: 0.9673 - val_loss: 0.1346 - val_accuracy: 0.9536\n",
      "Epoch 81/100\n",
      "15/15 [==============================] - 0s 7ms/step - loss: 0.1055 - accuracy: 0.9657 - val_loss: 0.1513 - val_accuracy: 0.9536\n",
      "Epoch 82/100\n",
      "15/15 [==============================] - 0s 7ms/step - loss: 0.1084 - accuracy: 0.9644 - val_loss: 0.1456 - val_accuracy: 0.9521\n",
      "Epoch 83/100\n",
      "15/15 [==============================] - 0s 7ms/step - loss: 0.1043 - accuracy: 0.9656 - val_loss: 0.1397 - val_accuracy: 0.9521\n",
      "Epoch 84/100\n",
      "15/15 [==============================] - 0s 7ms/step - loss: 0.1030 - accuracy: 0.9630 - val_loss: 0.1377 - val_accuracy: 0.9536\n",
      "Epoch 85/100\n",
      "15/15 [==============================] - 0s 7ms/step - loss: 0.1031 - accuracy: 0.9639 - val_loss: 0.1353 - val_accuracy: 0.9516\n",
      "Epoch 86/100\n",
      "15/15 [==============================] - 0s 7ms/step - loss: 0.1037 - accuracy: 0.9644 - val_loss: 0.1394 - val_accuracy: 0.9521\n",
      "Epoch 87/100\n",
      "15/15 [==============================] - 0s 7ms/step - loss: 0.1075 - accuracy: 0.9648 - val_loss: 0.1453 - val_accuracy: 0.9506\n",
      "Epoch 88/100\n",
      "15/15 [==============================] - 0s 7ms/step - loss: 0.1001 - accuracy: 0.9648 - val_loss: 0.1350 - val_accuracy: 0.9551\n",
      "Epoch 89/100\n",
      "15/15 [==============================] - 0s 7ms/step - loss: 0.1061 - accuracy: 0.9638 - val_loss: 0.1712 - val_accuracy: 0.9501\n",
      "Epoch 90/100\n",
      "15/15 [==============================] - 0s 7ms/step - loss: 0.1051 - accuracy: 0.9621 - val_loss: 0.1554 - val_accuracy: 0.9457\n",
      "Epoch 91/100\n",
      "15/15 [==============================] - 0s 7ms/step - loss: 0.1019 - accuracy: 0.9660 - val_loss: 0.1405 - val_accuracy: 0.9501\n",
      "Epoch 92/100\n",
      "15/15 [==============================] - 0s 7ms/step - loss: 0.0989 - accuracy: 0.9655 - val_loss: 0.1437 - val_accuracy: 0.9497\n",
      "Epoch 93/100\n",
      "15/15 [==============================] - 0s 7ms/step - loss: 0.0987 - accuracy: 0.9657 - val_loss: 0.1433 - val_accuracy: 0.9472\n",
      "Epoch 94/100\n",
      "15/15 [==============================] - 0s 7ms/step - loss: 0.1001 - accuracy: 0.9653 - val_loss: 0.1394 - val_accuracy: 0.9492\n",
      "Epoch 95/100\n",
      "15/15 [==============================] - 0s 7ms/step - loss: 0.0986 - accuracy: 0.9653 - val_loss: 0.1382 - val_accuracy: 0.9521\n",
      "Epoch 96/100\n",
      "15/15 [==============================] - 0s 7ms/step - loss: 0.0991 - accuracy: 0.9668 - val_loss: 0.1397 - val_accuracy: 0.9487\n",
      "Epoch 97/100\n",
      "15/15 [==============================] - 0s 7ms/step - loss: 0.1024 - accuracy: 0.9673 - val_loss: 0.1479 - val_accuracy: 0.9516\n",
      "Epoch 98/100\n",
      "15/15 [==============================] - 0s 7ms/step - loss: 0.0997 - accuracy: 0.9650 - val_loss: 0.1416 - val_accuracy: 0.9506\n",
      "Epoch 99/100\n",
      "15/15 [==============================] - 0s 7ms/step - loss: 0.0972 - accuracy: 0.9663 - val_loss: 0.1454 - val_accuracy: 0.9492\n",
      "Epoch 100/100\n",
      "15/15 [==============================] - 0s 7ms/step - loss: 0.1026 - accuracy: 0.9643 - val_loss: 0.1589 - val_accuracy: 0.9487\n"
     ]
    }
   ],
   "source": [
    "bestNNearly=create_modelWithDropBatch(hidden_layers= 4, learning_rate= 0.01)\n",
    "history2 = bestNN.fit(\n",
    "     scaled_x_train, y_train_res,\n",
    "    validation_data=(scaled_x_valid, y_valid),\n",
    "    batch_size=512,\n",
    "    epochs=100,\n",
    "#     callbacks=[early_stopping],\n",
    ")\n"
   ]
  },
  {
   "cell_type": "code",
   "execution_count": 79,
   "metadata": {
    "scrolled": true
   },
   "outputs": [
    {
     "data": {
      "text/plain": [
       "array([[0.46771336],\n",
       "       [0.47653824],\n",
       "       [0.46967372],\n",
       "       ...,\n",
       "       [0.44663817],\n",
       "       [0.44256306],\n",
       "       [0.4581063 ]], dtype=float32)"
      ]
     },
     "execution_count": 79,
     "metadata": {},
     "output_type": "execute_result"
    }
   ],
   "source": [
    "y_pred_SVM"
   ]
  },
  {
   "cell_type": "code",
   "execution_count": 83,
   "metadata": {},
   "outputs": [
    {
     "name": "stderr",
     "output_type": "stream",
     "text": [
      "/home/dheekshitha-vibha/miniconda3/envs/myenv/lib/python3.6/site-packages/tensorflow/python/keras/engine/sequential.py:450: UserWarning: `model.predict_classes()` is deprecated and will be removed after 2021-01-01. Please use instead:* `np.argmax(model.predict(x), axis=-1)`,   if your model does multi-class classification   (e.g. if it uses a `softmax` last-layer activation).* `(model.predict(x) > 0.5).astype(\"int32\")`,   if your model does binary classification   (e.g. if it uses a `sigmoid` last-layer activation).\n",
      "  warnings.warn('`model.predict_classes()` is deprecated and '\n",
      "/home/dheekshitha-vibha/miniconda3/envs/myenv/lib/python3.6/site-packages/tensorflow/python/keras/engine/sequential.py:450: UserWarning: `model.predict_classes()` is deprecated and will be removed after 2021-01-01. Please use instead:* `np.argmax(model.predict(x), axis=-1)`,   if your model does multi-class classification   (e.g. if it uses a `softmax` last-layer activation).* `(model.predict(x) > 0.5).astype(\"int32\")`,   if your model does binary classification   (e.g. if it uses a `sigmoid` last-layer activation).\n",
      "  warnings.warn('`model.predict_classes()` is deprecated and '\n"
     ]
    },
    {
     "name": "stdout",
     "output_type": "stream",
     "text": [
      "Accuracy_Score: 94.86673247778874 %\n",
      "precision_score: 95.67224466243508 %\n",
      "recall_score: 98.2809721398933 %\n",
      "Training Accuracy_Score: 98.95765472312704 %\n"
     ]
    },
    {
     "name": "stderr",
     "output_type": "stream",
     "text": [
      "/home/dheekshitha-vibha/miniconda3/envs/myenv/lib/python3.6/site-packages/tensorflow/python/keras/engine/sequential.py:450: UserWarning: `model.predict_classes()` is deprecated and will be removed after 2021-01-01. Please use instead:* `np.argmax(model.predict(x), axis=-1)`,   if your model does multi-class classification   (e.g. if it uses a `softmax` last-layer activation).* `(model.predict(x) > 0.5).astype(\"int32\")`,   if your model does binary classification   (e.g. if it uses a `sigmoid` last-layer activation).\n",
      "  warnings.warn('`model.predict_classes()` is deprecated and '\n",
      "/home/dheekshitha-vibha/miniconda3/envs/myenv/lib/python3.6/site-packages/tensorflow/python/keras/engine/sequential.py:450: UserWarning: `model.predict_classes()` is deprecated and will be removed after 2021-01-01. Please use instead:* `np.argmax(model.predict(x), axis=-1)`,   if your model does multi-class classification   (e.g. if it uses a `softmax` last-layer activation).* `(model.predict(x) > 0.5).astype(\"int32\")`,   if your model does binary classification   (e.g. if it uses a `sigmoid` last-layer activation).\n",
      "  warnings.warn('`model.predict_classes()` is deprecated and '\n"
     ]
    },
    {
     "name": "stdout",
     "output_type": "stream",
     "text": [
      "Training Recall: 99.57006058237249 %\n",
      "Training precision_score: 98.87444207257909 %\n"
     ]
    },
    {
     "name": "stderr",
     "output_type": "stream",
     "text": [
      "/home/dheekshitha-vibha/miniconda3/envs/myenv/lib/python3.6/site-packages/tensorflow/python/keras/engine/sequential.py:450: UserWarning: `model.predict_classes()` is deprecated and will be removed after 2021-01-01. Please use instead:* `np.argmax(model.predict(x), axis=-1)`,   if your model does multi-class classification   (e.g. if it uses a `softmax` last-layer activation).* `(model.predict(x) > 0.5).astype(\"int32\")`,   if your model does binary classification   (e.g. if it uses a `sigmoid` last-layer activation).\n",
      "  warnings.warn('`model.predict_classes()` is deprecated and '\n"
     ]
    },
    {
     "name": "stdout",
     "output_type": "stream",
     "text": [
      "Training F1 Score: 99.22103213242454 %\n"
     ]
    }
   ],
   "source": [
    "y_pred_SVM = bestNN.predict_classes(scaled_x_valid)\n",
    "\n",
    "\n",
    "# print('Classification report: \\n', metrics.classification_report(y_test, model))\n",
    "print('Accuracy_Score:',metrics.accuracy_score(y_valid, y_pred_SVM)*100,'%')\n",
    "\n",
    "\n",
    "print('precision_score:',metrics.precision_score(y_valid, y_pred_SVM)*100,'%')\n",
    "\n",
    "print('recall_score:',metrics.recall_score(y_valid, y_pred_SVM)*100,'%')\n",
    "\n",
    "print('Training Accuracy_Score:',metrics.accuracy_score(y_train_res, bestNN.predict_classes(scaled_x_train))*100,'%')\n",
    "print('Training Recall:',metrics.recall_score(y_train_res, bestNN.predict_classes(scaled_x_train))*100,'%')\n",
    "print('Training precision_score:',metrics.precision_score(y_train_res, bestNN.predict_classes(scaled_x_train))*100,'%')\n",
    "print('Training F1 Score:',metrics.f1_score(y_train_res, bestNN.predict_classes(scaled_x_train))*100,'%')\n"
   ]
  },
  {
   "cell_type": "code",
   "execution_count": 82,
   "metadata": {
    "scrolled": true
   },
   "outputs": [
    {
     "name": "stderr",
     "output_type": "stream",
     "text": [
      "/home/dheekshitha-vibha/miniconda3/envs/myenv/lib/python3.6/site-packages/tensorflow/python/keras/engine/sequential.py:450: UserWarning: `model.predict_classes()` is deprecated and will be removed after 2021-01-01. Please use instead:* `np.argmax(model.predict(x), axis=-1)`,   if your model does multi-class classification   (e.g. if it uses a `softmax` last-layer activation).* `(model.predict(x) > 0.5).astype(\"int32\")`,   if your model does binary classification   (e.g. if it uses a `sigmoid` last-layer activation).\n",
      "  warnings.warn('`model.predict_classes()` is deprecated and '\n",
      "/home/dheekshitha-vibha/miniconda3/envs/myenv/lib/python3.6/site-packages/sklearn/metrics/_classification.py:1245: UndefinedMetricWarning: Precision is ill-defined and being set to 0.0 due to no predicted samples. Use `zero_division` parameter to control this behavior.\n",
      "  _warn_prf(average, modifier, msg_start, len(result))\n",
      "/home/dheekshitha-vibha/miniconda3/envs/myenv/lib/python3.6/site-packages/tensorflow/python/keras/engine/sequential.py:450: UserWarning: `model.predict_classes()` is deprecated and will be removed after 2021-01-01. Please use instead:* `np.argmax(model.predict(x), axis=-1)`,   if your model does multi-class classification   (e.g. if it uses a `softmax` last-layer activation).* `(model.predict(x) > 0.5).astype(\"int32\")`,   if your model does binary classification   (e.g. if it uses a `sigmoid` last-layer activation).\n",
      "  warnings.warn('`model.predict_classes()` is deprecated and '\n"
     ]
    },
    {
     "name": "stdout",
     "output_type": "stream",
     "text": [
      "Accuracy_Score: 16.732477788746298 %\n",
      "precision_score: 0.0 %\n",
      "recall_score: 0.0 %\n",
      "Training Accuracy_Score: 33.328990228013026 %\n"
     ]
    },
    {
     "name": "stderr",
     "output_type": "stream",
     "text": [
      "/home/dheekshitha-vibha/miniconda3/envs/myenv/lib/python3.6/site-packages/tensorflow/python/keras/engine/sequential.py:450: UserWarning: `model.predict_classes()` is deprecated and will be removed after 2021-01-01. Please use instead:* `np.argmax(model.predict(x), axis=-1)`,   if your model does multi-class classification   (e.g. if it uses a `softmax` last-layer activation).* `(model.predict(x) > 0.5).astype(\"int32\")`,   if your model does binary classification   (e.g. if it uses a `sigmoid` last-layer activation).\n",
      "  warnings.warn('`model.predict_classes()` is deprecated and '\n",
      "/home/dheekshitha-vibha/miniconda3/envs/myenv/lib/python3.6/site-packages/tensorflow/python/keras/engine/sequential.py:450: UserWarning: `model.predict_classes()` is deprecated and will be removed after 2021-01-01. Please use instead:* `np.argmax(model.predict(x), axis=-1)`,   if your model does multi-class classification   (e.g. if it uses a `softmax` last-layer activation).* `(model.predict(x) > 0.5).astype(\"int32\")`,   if your model does binary classification   (e.g. if it uses a `sigmoid` last-layer activation).\n",
      "  warnings.warn('`model.predict_classes()` is deprecated and '\n"
     ]
    },
    {
     "name": "stdout",
     "output_type": "stream",
     "text": [
      "Training Recall: 0.0 %\n",
      "Training precision_score: 0.0 %\n"
     ]
    },
    {
     "name": "stderr",
     "output_type": "stream",
     "text": [
      "/home/dheekshitha-vibha/miniconda3/envs/myenv/lib/python3.6/site-packages/sklearn/metrics/_classification.py:1245: UndefinedMetricWarning: Precision is ill-defined and being set to 0.0 due to no predicted samples. Use `zero_division` parameter to control this behavior.\n",
      "  _warn_prf(average, modifier, msg_start, len(result))\n",
      "/home/dheekshitha-vibha/miniconda3/envs/myenv/lib/python3.6/site-packages/tensorflow/python/keras/engine/sequential.py:450: UserWarning: `model.predict_classes()` is deprecated and will be removed after 2021-01-01. Please use instead:* `np.argmax(model.predict(x), axis=-1)`,   if your model does multi-class classification   (e.g. if it uses a `softmax` last-layer activation).* `(model.predict(x) > 0.5).astype(\"int32\")`,   if your model does binary classification   (e.g. if it uses a `sigmoid` last-layer activation).\n",
      "  warnings.warn('`model.predict_classes()` is deprecated and '\n"
     ]
    },
    {
     "name": "stdout",
     "output_type": "stream",
     "text": [
      "Training F1 Score: 0.0 %\n"
     ]
    }
   ],
   "source": [
    "y_pred_SVM = bestNNearly.predict_classes(scaled_x_valid)\n",
    "\n",
    "\n",
    "# print('Classification report: \\n', metrics.classification_report(y_test, model))\n",
    "print('Accuracy_Score:',metrics.accuracy_score(y_valid, y_pred_SVM)*100,'%')\n",
    "\n",
    "\n",
    "print('precision_score:',metrics.precision_score(y_valid, y_pred_SVM)*100,'%')\n",
    "\n",
    "print('recall_score:',metrics.recall_score(y_valid, y_pred_SVM)*100,'%')\n",
    "\n",
    "print('Training Accuracy_Score:',metrics.accuracy_score(y_train_res, bestNNearly.predict_classes(scaled_x_train))*100,'%')\n",
    "print('Training Recall:',metrics.recall_score(y_train_res, bestNNearly.predict_classes(scaled_x_train))*100,'%')\n",
    "print('Training precision_score:',metrics.precision_score(y_train_res, bestNNearly.predict_classes(scaled_x_train))*100,'%')\n",
    "print('Training F1 Score:',metrics.f1_score(y_train_res, bestNNearly.predict_classes(scaled_x_train))*100,'%')\n"
   ]
  },
  {
   "cell_type": "code",
   "execution_count": 88,
   "metadata": {},
   "outputs": [],
   "source": [
    "# from sklearn.model_selection import learning_curve"
   ]
  },
  {
   "cell_type": "code",
   "execution_count": null,
   "metadata": {
    "scrolled": true
   },
   "outputs": [],
   "source": []
  },
  {
   "cell_type": "code",
   "execution_count": 84,
   "metadata": {},
   "outputs": [
    {
     "name": "stderr",
     "output_type": "stream",
     "text": [
      "/home/dheekshitha-vibha/miniconda3/envs/myenv/lib/python3.6/site-packages/tensorflow/python/keras/engine/sequential.py:450: UserWarning: `model.predict_classes()` is deprecated and will be removed after 2021-01-01. Please use instead:* `np.argmax(model.predict(x), axis=-1)`,   if your model does multi-class classification   (e.g. if it uses a `softmax` last-layer activation).* `(model.predict(x) > 0.5).astype(\"int32\")`,   if your model does binary classification   (e.g. if it uses a `sigmoid` last-layer activation).\n",
      "  warnings.warn('`model.predict_classes()` is deprecated and '\n",
      "/home/dheekshitha-vibha/miniconda3/envs/myenv/lib/python3.6/site-packages/tensorflow/python/keras/engine/sequential.py:450: UserWarning: `model.predict_classes()` is deprecated and will be removed after 2021-01-01. Please use instead:* `np.argmax(model.predict(x), axis=-1)`,   if your model does multi-class classification   (e.g. if it uses a `softmax` last-layer activation).* `(model.predict(x) > 0.5).astype(\"int32\")`,   if your model does binary classification   (e.g. if it uses a `sigmoid` last-layer activation).\n",
      "  warnings.warn('`model.predict_classes()` is deprecated and '\n",
      "/home/dheekshitha-vibha/miniconda3/envs/myenv/lib/python3.6/site-packages/tensorflow/python/keras/engine/sequential.py:450: UserWarning: `model.predict_classes()` is deprecated and will be removed after 2021-01-01. Please use instead:* `np.argmax(model.predict(x), axis=-1)`,   if your model does multi-class classification   (e.g. if it uses a `softmax` last-layer activation).* `(model.predict(x) > 0.5).astype(\"int32\")`,   if your model does binary classification   (e.g. if it uses a `sigmoid` last-layer activation).\n",
      "  warnings.warn('`model.predict_classes()` is deprecated and '\n"
     ]
    },
    {
     "name": "stdout",
     "output_type": "stream",
     "text": [
      "testing Accuracy_Score: 93.87956564659427 %\n",
      "testing Recall: 97.52358490566037 %\n",
      "testing precision_score: 95.27649769585254 %\n",
      "testing F1 Score: 96.38694638694638 %\n"
     ]
    },
    {
     "name": "stderr",
     "output_type": "stream",
     "text": [
      "/home/dheekshitha-vibha/miniconda3/envs/myenv/lib/python3.6/site-packages/tensorflow/python/keras/engine/sequential.py:450: UserWarning: `model.predict_classes()` is deprecated and will be removed after 2021-01-01. Please use instead:* `np.argmax(model.predict(x), axis=-1)`,   if your model does multi-class classification   (e.g. if it uses a `softmax` last-layer activation).* `(model.predict(x) > 0.5).astype(\"int32\")`,   if your model does binary classification   (e.g. if it uses a `sigmoid` last-layer activation).\n",
      "  warnings.warn('`model.predict_classes()` is deprecated and '\n"
     ]
    }
   ],
   "source": [
    "print('testing Accuracy_Score:',metrics.accuracy_score(y_test, bestNN.predict_classes(scaled_x_test))*100,'%')\n",
    "print('testing Recall:',metrics.recall_score(y_test, bestNN.predict_classes(scaled_x_test))*100,'%')\n",
    "print('testing precision_score:',metrics.precision_score(y_test, bestNN.predict_classes(scaled_x_test))*100,'%')\n",
    "print('testing F1 Score:',metrics.f1_score(y_test, bestNN.predict_classes(scaled_x_test))*100,'%')\n"
   ]
  }
 ],
 "metadata": {
  "kernelspec": {
   "display_name": "myenv",
   "language": "python",
   "name": "myenv"
  },
  "language_info": {
   "codemirror_mode": {
    "name": "ipython",
    "version": 3
   },
   "file_extension": ".py",
   "mimetype": "text/x-python",
   "name": "python",
   "nbconvert_exporter": "python",
   "pygments_lexer": "ipython3",
   "version": "3.6.12"
  }
 },
 "nbformat": 4,
 "nbformat_minor": 4
}
